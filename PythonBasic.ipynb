{
  "cells": [
    {
      "cell_type": "markdown",
      "metadata": {
        "id": "view-in-github",
        "colab_type": "text"
      },
      "source": [
        "<a href=\"https://colab.research.google.com/github/Robinkim0125/DataAnalysis/blob/main/PythonBasic.ipynb\" target=\"_parent\"><img src=\"https://colab.research.google.com/assets/colab-badge.svg\" alt=\"Open In Colab\"/></a>"
      ]
    },
    {
      "cell_type": "markdown",
      "metadata": {
        "id": "7XizodRX13ap"
      },
      "source": [
        "데이터 분석을 위한 파이선 기초"
      ]
    },
    {
      "cell_type": "markdown",
      "metadata": {
        "id": "9D2ffGdNR7Qy"
      },
      "source": [
        "파이선 기초(list)"
      ]
    },
    {
      "cell_type": "code",
      "execution_count": null,
      "metadata": {
        "id": "I_-XK6gMR7Qz",
        "outputId": "57192749-c136-444e-c95f-4b1a0eb21af3"
      },
      "outputs": [
        {
          "data": {
            "text/plain": [
              "list"
            ]
          },
          "execution_count": 24,
          "metadata": {},
          "output_type": "execute_result"
        }
      ],
      "source": [
        "list = ['a','b']\n",
        "type(list)"
      ]
    },
    {
      "cell_type": "code",
      "execution_count": null,
      "metadata": {
        "id": "8R02GGJKR7Q3",
        "outputId": "c894d2cf-f3a5-4811-8ecd-45e81ebda40f"
      },
      "outputs": [
        {
          "name": "stdout",
          "output_type": "stream",
          "text": [
            "[1, 2, 3, 4, 5, 6]\n"
          ]
        }
      ],
      "source": [
        "list = [1,2,3,4,5]\n",
        "list.append(6)\n",
        "print(list)"
      ]
    },
    {
      "cell_type": "code",
      "execution_count": null,
      "metadata": {
        "id": "eCMe_LwcR7Q4",
        "outputId": "bcccb44e-b4da-4ee0-810c-317bcf26e079"
      },
      "outputs": [
        {
          "name": "stdout",
          "output_type": "stream",
          "text": [
            "[1, 2, 3, 4, 5, 'a', 'b', 'c']\n"
          ]
        }
      ],
      "source": [
        "list1 = [1,2,3,4,5]\n",
        "list2 = ['a','b','c']\n",
        "list1.extend(list2)\n",
        "print(list1)"
      ]
    },
    {
      "cell_type": "markdown",
      "metadata": {
        "id": "cpuWPgDDR7Q6"
      },
      "source": [
        "조건문"
      ]
    },
    {
      "cell_type": "code",
      "execution_count": null,
      "metadata": {
        "id": "Oq0nMGfoR7Q7",
        "outputId": "5b565545-fd0f-4c59-b204-317ca7b6f141"
      },
      "outputs": [
        {
          "name": "stdout",
          "output_type": "stream",
          "text": [
            "0\n",
            "1\n",
            "2\n",
            "3\n",
            "4\n",
            "1\n"
          ]
        }
      ],
      "source": [
        "for i in range(0,5):\n",
        "    print(i)\n",
        "print(1)"
      ]
    },
    {
      "cell_type": "code",
      "execution_count": null,
      "metadata": {
        "id": "dtzGGO--R7Q8",
        "outputId": "fce9dc0c-96f4-4f4d-fcc2-e127a7454152"
      },
      "outputs": [
        {
          "name": "stdout",
          "output_type": "stream",
          "text": [
            "a\n",
            "b\n",
            "c\n",
            "d\n"
          ]
        }
      ],
      "source": [
        "list = ['a','b','c','d']\n",
        "for a in list:\n",
        "    print(a)"
      ]
    },
    {
      "cell_type": "markdown",
      "metadata": {
        "id": "AUpIdatxR7Q9"
      },
      "source": [
        "비교연산자&if문"
      ]
    },
    {
      "cell_type": "code",
      "execution_count": null,
      "metadata": {
        "id": "4lp6fDLiR7Q-",
        "outputId": "c4191774-5d42-4b0c-fd4f-04f1bb1c220b"
      },
      "outputs": [
        {
          "name": "stdout",
          "output_type": "stream",
          "text": [
            "a\n"
          ]
        }
      ],
      "source": [
        "if (2==2):\n",
        "    print(\"a\")\n",
        "else:\n",
        "    print(\"b\")"
      ]
    },
    {
      "cell_type": "code",
      "execution_count": null,
      "metadata": {
        "id": "DCG6gYkfR7Q_",
        "outputId": "a7939684-e0dd-4fe9-9754-ff566499882e"
      },
      "outputs": [
        {
          "name": "stdout",
          "output_type": "stream",
          "text": [
            "b\n"
          ]
        }
      ],
      "source": [
        "s = 85\n",
        "if s > 90:\n",
        "    print(\"a\")\n",
        "elif s>80:\n",
        "    print(\"b\")\n",
        "elif s>70:\n",
        "    print(\"c\")\n",
        "else:\n",
        "    print(\"F\")"
      ]
    },
    {
      "cell_type": "markdown",
      "metadata": {
        "id": "Nu38VEjuR7RA"
      },
      "source": [
        "함수"
      ]
    },
    {
      "cell_type": "code",
      "execution_count": null,
      "metadata": {
        "id": "ADeV9Oj-R7RB"
      },
      "outputs": [],
      "source": [
        "def 함수이름(인자1,인자2):\n",
        "    수행할 코드\n",
        "    return 최종결과"
      ]
    },
    {
      "cell_type": "code",
      "execution_count": null,
      "metadata": {
        "id": "k2q2iK9-R7RB",
        "outputId": "2f63c811-c289-4eb5-8484-c8468cb9bb78"
      },
      "outputs": [
        {
          "name": "stdout",
          "output_type": "stream",
          "text": [
            "6\n"
          ]
        }
      ],
      "source": [
        "def V(a,b,c): #함수의 인자 / 값이 있어야 함수 실행이 됨\n",
        "    return a*b*c  #함수의 결과값을 나중에 또 사용할 수 있도록 함\n",
        "                #return 은 출력하는 코드가 아님\n",
        "                #return 을 써야만 변수에 결과값 저장 가능\n",
        "print(V(1,2,3))"
      ]
    },
    {
      "cell_type": "code",
      "execution_count": null,
      "metadata": {
        "id": "M6J9l5lHR7RC",
        "outputId": "896eb050-ed2c-4f93-993b-7a2b289cca71"
      },
      "outputs": [
        {
          "name": "stdout",
          "output_type": "stream",
          "text": [
            "22\n"
          ]
        }
      ],
      "source": [
        "def S(a,b,c):\n",
        "    return 2*(a*b+b*c+a*c)\n",
        "print(S(1,2,3))"
      ]
    },
    {
      "cell_type": "markdown",
      "metadata": {
        "id": "G8T-C8ddR7RD"
      },
      "source": [
        "파이썬 클래스 &예외처리"
      ]
    },
    {
      "cell_type": "markdown",
      "metadata": {
        "id": "XctDLcNWR7RD"
      },
      "source": [
        "패키지(Pandas)"
      ]
    },
    {
      "cell_type": "code",
      "execution_count": null,
      "metadata": {
        "id": "7oj6ogqdR7RE",
        "outputId": "b9fa6912-7e74-4367-b0ab-5ccb6400a829"
      },
      "outputs": [
        {
          "data": {
            "text/html": [
              "<div>\n",
              "<style scoped>\n",
              "    .dataframe tbody tr th:only-of-type {\n",
              "        vertical-align: middle;\n",
              "    }\n",
              "\n",
              "    .dataframe tbody tr th {\n",
              "        vertical-align: top;\n",
              "    }\n",
              "\n",
              "    .dataframe thead th {\n",
              "        text-align: right;\n",
              "    }\n",
              "</style>\n",
              "<table border=\"1\" class=\"dataframe\">\n",
              "  <thead>\n",
              "    <tr style=\"text-align: right;\">\n",
              "      <th></th>\n",
              "      <th>code</th>\n",
              "      <th>과목</th>\n",
              "      <th>수강생</th>\n",
              "      <th>선생님</th>\n",
              "    </tr>\n",
              "  </thead>\n",
              "  <tbody>\n",
              "    <tr>\n",
              "      <th>0</th>\n",
              "      <td>101</td>\n",
              "      <td>수학</td>\n",
              "      <td>15</td>\n",
              "      <td>김민수</td>\n",
              "    </tr>\n",
              "    <tr>\n",
              "      <th>1</th>\n",
              "      <td>102</td>\n",
              "      <td>영어</td>\n",
              "      <td>15</td>\n",
              "      <td>김현정</td>\n",
              "    </tr>\n",
              "    <tr>\n",
              "      <th>2</th>\n",
              "      <td>103</td>\n",
              "      <td>국어</td>\n",
              "      <td>10</td>\n",
              "      <td>강수정</td>\n",
              "    </tr>\n",
              "    <tr>\n",
              "      <th>3</th>\n",
              "      <td>104</td>\n",
              "      <td>체육</td>\n",
              "      <td>50</td>\n",
              "      <td>이나리</td>\n",
              "    </tr>\n",
              "    <tr>\n",
              "      <th>4</th>\n",
              "      <td>105</td>\n",
              "      <td>미술</td>\n",
              "      <td>20</td>\n",
              "      <td>도민성</td>\n",
              "    </tr>\n",
              "    <tr>\n",
              "      <th>5</th>\n",
              "      <td>106</td>\n",
              "      <td>사회</td>\n",
              "      <td>50</td>\n",
              "      <td>강수진</td>\n",
              "    </tr>\n",
              "    <tr>\n",
              "      <th>6</th>\n",
              "      <td>107</td>\n",
              "      <td>도덕</td>\n",
              "      <td>70</td>\n",
              "      <td>김진성</td>\n",
              "    </tr>\n",
              "    <tr>\n",
              "      <th>7</th>\n",
              "      <td>108</td>\n",
              "      <td>과학</td>\n",
              "      <td>10</td>\n",
              "      <td>오상배</td>\n",
              "    </tr>\n",
              "  </tbody>\n",
              "</table>\n",
              "</div>"
            ],
            "text/plain": [
              "   code  과목  수강생  선생님\n",
              "0   101  수학   15  김민수\n",
              "1   102  영어   15  김현정\n",
              "2   103  국어   10  강수정\n",
              "3   104  체육   50  이나리\n",
              "4   105  미술   20  도민성\n",
              "5   106  사회   50  강수진\n",
              "6   107  도덕   70  김진성\n",
              "7   108  과학   10  오상배"
            ]
          },
          "execution_count": 5,
          "metadata": {},
          "output_type": "execute_result"
        }
      ],
      "source": [
        "import pandas as pd # df란 이름의 데이터프레임을 생성합니다.\n",
        "items = {'code' : [101, 102, 103, 104, 105, 106, 107, 108],\n",
        "         '과목': ['수학', '영어', '국어', '체육', '미술', '사회', '도덕', '과학'],\n",
        "         '수강생':[15, 15, 10, 50, 20, 50, 70, 10],\n",
        "         '선생님': ['김민수','김현정','강수정', '이나리', '도민성', '강수진', '김진성', '오상배']}\n",
        "df = pd.DataFrame(items)\n",
        "df"
      ]
    },
    {
      "cell_type": "code",
      "execution_count": null,
      "metadata": {
        "id": "BwGtfdSDR7RE",
        "outputId": "80bfb455-3629-4cdc-df8a-15c658316978"
      },
      "outputs": [
        {
          "data": {
            "text/html": [
              "<div>\n",
              "<style scoped>\n",
              "    .dataframe tbody tr th:only-of-type {\n",
              "        vertical-align: middle;\n",
              "    }\n",
              "\n",
              "    .dataframe tbody tr th {\n",
              "        vertical-align: top;\n",
              "    }\n",
              "\n",
              "    .dataframe thead th {\n",
              "        text-align: right;\n",
              "    }\n",
              "</style>\n",
              "<table border=\"1\" class=\"dataframe\">\n",
              "  <thead>\n",
              "    <tr style=\"text-align: right;\">\n",
              "      <th></th>\n",
              "      <th>code</th>\n",
              "      <th>과목</th>\n",
              "      <th>수강생</th>\n",
              "      <th>선생님</th>\n",
              "    </tr>\n",
              "  </thead>\n",
              "  <tbody>\n",
              "    <tr>\n",
              "      <th>0</th>\n",
              "      <td>109</td>\n",
              "      <td>컴퓨터</td>\n",
              "      <td>10</td>\n",
              "      <td>이철민</td>\n",
              "    </tr>\n",
              "    <tr>\n",
              "      <th>1</th>\n",
              "      <td>110</td>\n",
              "      <td>한자</td>\n",
              "      <td>12</td>\n",
              "      <td>김영우</td>\n",
              "    </tr>\n",
              "  </tbody>\n",
              "</table>\n",
              "</div>"
            ],
            "text/plain": [
              "   code   과목  수강생  선생님\n",
              "0   109  컴퓨터   10  이철민\n",
              "1   110   한자   12  김영우"
            ]
          },
          "execution_count": 8,
          "metadata": {},
          "output_type": "execute_result"
        }
      ],
      "source": [
        "items2 = {'code' : [109, 110],\n",
        "         '과목': ['컴퓨터', '한자'],\n",
        "         '수강생':[10, 12],\n",
        "         '선생님': ['이철민', '김영우']}\n",
        "df2 = pd.DataFrame(items2)\n",
        "df2"
      ]
    },
    {
      "cell_type": "code",
      "execution_count": null,
      "metadata": {
        "id": "p0JS_F6JR7RF",
        "outputId": "e42564db-d495-41be-cf01-3111330ccecd"
      },
      "outputs": [
        {
          "name": "stdout",
          "output_type": "stream",
          "text": [
            "   code   과목  수강생  선생님\n",
            "0   101   수학   15  김민수\n",
            "1   102   영어   15  김현정\n",
            "2   103   국어   10  강수정\n",
            "3   104   체육   50  이나리\n",
            "4   105   미술   20  도민성\n",
            "5   106   사회   50  강수진\n",
            "6   107   도덕   70  김진성\n",
            "7   108   과학   10  오상배\n",
            "0   109  컴퓨터   10  이철민\n",
            "1   110   한자   12  김영우\n"
          ]
        }
      ],
      "source": [
        "total_df= pd.concat([df,df2])\n",
        "print(total_df)"
      ]
    },
    {
      "cell_type": "code",
      "execution_count": null,
      "metadata": {
        "id": "2AsnDio2R7RG"
      },
      "outputs": [],
      "source": [
        "total_df.to_csv('data.csv', index=False)"
      ]
    },
    {
      "cell_type": "code",
      "execution_count": null,
      "metadata": {
        "id": "a1FwKNc9R7RG",
        "outputId": "d3cf179e-1161-49c0-f776-a53e881dc681"
      },
      "outputs": [
        {
          "data": {
            "text/html": [
              "<div>\n",
              "<style scoped>\n",
              "    .dataframe tbody tr th:only-of-type {\n",
              "        vertical-align: middle;\n",
              "    }\n",
              "\n",
              "    .dataframe tbody tr th {\n",
              "        vertical-align: top;\n",
              "    }\n",
              "\n",
              "    .dataframe thead th {\n",
              "        text-align: right;\n",
              "    }\n",
              "</style>\n",
              "<table border=\"1\" class=\"dataframe\">\n",
              "  <thead>\n",
              "    <tr style=\"text-align: right;\">\n",
              "      <th></th>\n",
              "      <th>code</th>\n",
              "      <th>과목</th>\n",
              "      <th>수강생</th>\n",
              "      <th>선생님</th>\n",
              "    </tr>\n",
              "  </thead>\n",
              "  <tbody>\n",
              "    <tr>\n",
              "      <th>0</th>\n",
              "      <td>101</td>\n",
              "      <td>수학</td>\n",
              "      <td>15</td>\n",
              "      <td>김민수</td>\n",
              "    </tr>\n",
              "    <tr>\n",
              "      <th>1</th>\n",
              "      <td>102</td>\n",
              "      <td>영어</td>\n",
              "      <td>15</td>\n",
              "      <td>김현정</td>\n",
              "    </tr>\n",
              "    <tr>\n",
              "      <th>2</th>\n",
              "      <td>103</td>\n",
              "      <td>국어</td>\n",
              "      <td>10</td>\n",
              "      <td>강수정</td>\n",
              "    </tr>\n",
              "    <tr>\n",
              "      <th>3</th>\n",
              "      <td>104</td>\n",
              "      <td>체육</td>\n",
              "      <td>50</td>\n",
              "      <td>이나리</td>\n",
              "    </tr>\n",
              "    <tr>\n",
              "      <th>4</th>\n",
              "      <td>105</td>\n",
              "      <td>미술</td>\n",
              "      <td>20</td>\n",
              "      <td>도민성</td>\n",
              "    </tr>\n",
              "    <tr>\n",
              "      <th>5</th>\n",
              "      <td>106</td>\n",
              "      <td>사회</td>\n",
              "      <td>50</td>\n",
              "      <td>강수진</td>\n",
              "    </tr>\n",
              "    <tr>\n",
              "      <th>6</th>\n",
              "      <td>107</td>\n",
              "      <td>도덕</td>\n",
              "      <td>70</td>\n",
              "      <td>김진성</td>\n",
              "    </tr>\n",
              "    <tr>\n",
              "      <th>7</th>\n",
              "      <td>108</td>\n",
              "      <td>과학</td>\n",
              "      <td>10</td>\n",
              "      <td>오상배</td>\n",
              "    </tr>\n",
              "    <tr>\n",
              "      <th>8</th>\n",
              "      <td>109</td>\n",
              "      <td>컴퓨터</td>\n",
              "      <td>10</td>\n",
              "      <td>이철민</td>\n",
              "    </tr>\n",
              "    <tr>\n",
              "      <th>9</th>\n",
              "      <td>110</td>\n",
              "      <td>한자</td>\n",
              "      <td>12</td>\n",
              "      <td>김영우</td>\n",
              "    </tr>\n",
              "  </tbody>\n",
              "</table>\n",
              "</div>"
            ],
            "text/plain": [
              "   code   과목  수강생  선생님\n",
              "0   101   수학   15  김민수\n",
              "1   102   영어   15  김현정\n",
              "2   103   국어   10  강수정\n",
              "3   104   체육   50  이나리\n",
              "4   105   미술   20  도민성\n",
              "5   106   사회   50  강수진\n",
              "6   107   도덕   70  김진성\n",
              "7   108   과학   10  오상배\n",
              "8   109  컴퓨터   10  이철민\n",
              "9   110   한자   12  김영우"
            ]
          },
          "execution_count": 16,
          "metadata": {},
          "output_type": "execute_result"
        }
      ],
      "source": [
        "new_df=pd.read_table('data.csv', sep=',')\n",
        "new_df"
      ]
    },
    {
      "cell_type": "markdown",
      "metadata": {
        "id": "IDfA1WdhR7RG"
      },
      "source": [
        "1-5 웹 스크래핑 패키지"
      ]
    },
    {
      "cell_type": "markdown",
      "metadata": {
        "id": "5nJT9BZ6R7RH"
      },
      "source": [
        "beuatifulSoup 패키지"
      ]
    },
    {
      "cell_type": "code",
      "execution_count": null,
      "metadata": {
        "id": "DFmmZzBLR7RH"
      },
      "outputs": [],
      "source": [
        "from bs4 import BeautifulSoup\n",
        "# pip install beautifulSoup4"
      ]
    },
    {
      "cell_type": "code",
      "execution_count": null,
      "metadata": {
        "id": "LsP3RSC7R7RI"
      },
      "outputs": [],
      "source": [
        "# bs4라는 패키지로부터 BeautifulSoup라는 모듈을 임포트\n",
        "from bs4 import BeautifulSoup\n",
        "\n",
        "# HTML 문서를 문자열 html로 저장\n",
        "html = '''\n",
        "<html> \n",
        "    <head> \n",
        "    </head> \n",
        "    <body> \n",
        "        <h1> 장바구니\n",
        "            <p id='clothes' class='name' title='라운드티'> 라운드티\n",
        "                <span class = 'number'> 25 </span> \n",
        "                <span class = 'price'> 29000 </span> \n",
        "                <span class = 'menu'> 의류</span> \n",
        "                <a href = 'http://www.naver.com'> 바로가기 </a> \n",
        "            </p> \n",
        "            <p id='watch' class='name' title='시계'> 시계\n",
        "                <span class = 'number'> 28 </span>\n",
        "                <span class = 'price'> 32000 </span> \n",
        "                <span class = 'menu'> 액세서리 </span> \n",
        "                <a href = 'http://www.facebook.com'> 바로가기 </a> \n",
        "            </p> \n",
        "        </h1> \n",
        "    </body> \n",
        "</html>\n",
        "'''\n",
        "\n",
        "# BeautifulSoup 인스턴스 생성. 두번째 매개변수는 분석할 분석기(parser)의 종류.\n",
        "soup = BeautifulSoup(html, 'html.parser')"
      ]
    },
    {
      "cell_type": "code",
      "execution_count": null,
      "metadata": {
        "id": "Uo3QNxycR7RI",
        "outputId": "84bb6582-8d26-4395-9f78-5fef75a75dd3"
      },
      "outputs": [
        {
          "name": "stdout",
          "output_type": "stream",
          "text": [
            "[<body>\n",
            "<h1> 장바구니\n",
            "            <p class=\"name\" id=\"clothes\" title=\"라운드티\"> 라운드티\n",
            "                <span class=\"number\"> 25 </span>\n",
            "<span class=\"price\"> 29000 </span>\n",
            "<span class=\"menu\"> 의류</span>\n",
            "<a href=\"http://www.naver.com\"> 바로가기 </a>\n",
            "</p>\n",
            "<p class=\"name\" id=\"watch\" title=\"시계\"> 시계\n",
            "                <span class=\"number\"> 28 </span>\n",
            "<span class=\"price\"> 32000 </span>\n",
            "<span class=\"menu\"> 액세서리 </span>\n",
            "<a href=\"http://www.facebook.com\"> 바로가기 </a>\n",
            "</p>\n",
            "</h1>\n",
            "</body>]\n"
          ]
        }
      ],
      "source": [
        "# 바디 태그만 가져오기\n",
        "print(soup.select('body'))"
      ]
    },
    {
      "cell_type": "code",
      "execution_count": null,
      "metadata": {
        "id": "95NATP3rR7RJ",
        "outputId": "79d26c3a-f539-498b-d83e-4c598a14741d"
      },
      "outputs": [
        {
          "name": "stdout",
          "output_type": "stream",
          "text": [
            "[<a href=\"http://www.naver.com\"> 바로가기 </a>, <a href=\"http://www.facebook.com\"> 바로가기 </a>]\n"
          ]
        }
      ],
      "source": [
        "print(soup.select('a'))"
      ]
    },
    {
      "cell_type": "code",
      "execution_count": null,
      "metadata": {
        "id": "_f7cyPQXR7RJ",
        "outputId": "8ffd006b-ed4b-4d75-d3ec-5216178b1cd1"
      },
      "outputs": [
        {
          "name": "stdout",
          "output_type": "stream",
          "text": [
            "[<span class=\"price\"> 29000 </span>, <span class=\"price\"> 32000 </span>]\n"
          ]
        }
      ],
      "source": [
        "print(soup.select('.price')) \n",
        "# class 가져올때는 앞에 점 붙이기"
      ]
    },
    {
      "cell_type": "code",
      "execution_count": null,
      "metadata": {
        "id": "b1sSy-ZdR7RK",
        "outputId": "90c95a11-c959-40b1-b091-a666e9f5aa4f"
      },
      "outputs": [
        {
          "name": "stdout",
          "output_type": "stream",
          "text": [
            "[<p class=\"name\" id=\"watch\" title=\"시계\"> 시계\n",
            "                <span class=\"number\"> 28 </span>\n",
            "<span class=\"price\"> 32000 </span>\n",
            "<span class=\"menu\"> 액세서리 </span>\n",
            "<a href=\"http://www.facebook.com\"> 바로가기 </a>\n",
            "</p>]\n"
          ]
        }
      ],
      "source": [
        "print(soup.select('#watch'))"
      ]
    },
    {
      "cell_type": "code",
      "execution_count": null,
      "metadata": {
        "id": "c_JClD-NR7RK",
        "outputId": "2943bb90-5726-4e7c-a4ed-eecceabc090c"
      },
      "outputs": [
        {
          "name": "stdout",
          "output_type": "stream",
          "text": [
            "[<span class=\"price\"> 29000 </span>]\n"
          ]
        }
      ],
      "source": [
        "print(soup.select('#clothes .price'))"
      ]
    },
    {
      "cell_type": "code",
      "execution_count": null,
      "metadata": {
        "id": "PlnLcQZyR7RL",
        "outputId": "3814fa9f-8554-456e-b40d-ba9ad256da99"
      },
      "outputs": [
        {
          "name": "stdout",
          "output_type": "stream",
          "text": [
            "http://www.naver.com\n"
          ]
        }
      ],
      "source": [
        "s= soup.a.get('href')\n",
        "print(s)"
      ]
    },
    {
      "cell_type": "markdown",
      "metadata": {
        "id": "FP88lIN8R7RL"
      },
      "source": [
        "newspaper3K 패키지"
      ]
    },
    {
      "cell_type": "code",
      "execution_count": null,
      "metadata": {
        "id": "c9TOCBknR7RM"
      },
      "outputs": [],
      "source": [
        "# newspaper라는 패키지로부터 Article이라는 모듈을 임포트\n",
        "from newspaper import Article\n",
        "\n",
        "# 파싱할 뉴스 기사 주소\n",
        "url = 'https://news.naver.com/main/read.nhn?mode=LSD&mid=sec&sid1=101&oid=030&aid=0002881076'\n",
        "\n",
        "# 언어가 한국어이므로 language='ko'로 설정\n",
        "article = Article(url, language='ko')\n",
        "\n",
        "# 뉴스 제목과 본문을 찾아내는 분석!\n",
        "article.download()\n",
        "article.parse()"
      ]
    },
    {
      "cell_type": "code",
      "execution_count": null,
      "metadata": {
        "id": "y8hsKenLR7RM",
        "outputId": "12e622b5-0c65-42de-f469-7395378e5bd5"
      },
      "outputs": [
        {
          "name": "stdout",
          "output_type": "stream",
          "text": [
            "[AI 사피엔스 시대]자연어처리 기술, 컴퓨팅 파워 경쟁 시대로\n"
          ]
        }
      ],
      "source": [
        "print(article.title)"
      ]
    },
    {
      "cell_type": "code",
      "execution_count": null,
      "metadata": {
        "id": "cjx9491PR7RN"
      },
      "outputs": [],
      "source": [
        "print(article.text)"
      ]
    },
    {
      "cell_type": "markdown",
      "metadata": {
        "id": "0cwzOhqMR7RO"
      },
      "source": [
        ""
      ]
    }
  ],
  "metadata": {
    "colab": {
      "name": "PythonBasic.ipynb",
      "provenance": [],
      "toc_visible": true,
      "include_colab_link": true
    },
    "kernelspec": {
      "display_name": "Python 3.10.2 64-bit",
      "language": "python",
      "name": "python3"
    },
    "language_info": {
      "codemirror_mode": {
        "name": "ipython",
        "version": 3
      },
      "file_extension": ".py",
      "mimetype": "text/x-python",
      "name": "python",
      "nbconvert_exporter": "python",
      "pygments_lexer": "ipython3",
      "version": "3.10.2"
    },
    "vscode": {
      "interpreter": {
        "hash": "01079870ec217664a9586f5056985b4486a7f0e76daff8d961f86d047bcb9839"
      }
    }
  },
  "nbformat": 4,
  "nbformat_minor": 0
}