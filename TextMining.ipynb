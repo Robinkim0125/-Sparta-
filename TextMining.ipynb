{
  "nbformat": 4,
  "nbformat_minor": 0,
  "metadata": {
    "colab": {
      "name": "TextMining.ipynb",
      "provenance": [],
      "authorship_tag": "ABX9TyNfmmQmN4HQYhQDpL4DbapE",
      "include_colab_link": true
    },
    "kernelspec": {
      "name": "python3",
      "display_name": "Python 3"
    },
    "language_info": {
      "name": "python"
    }
  },
  "cells": [
    {
      "cell_type": "markdown",
      "metadata": {
        "id": "view-in-github",
        "colab_type": "text"
      },
      "source": [
        "<a href=\"https://colab.research.google.com/github/Robinkim0125/DataAnalysis/blob/main/TextMining.ipynb\" target=\"_parent\"><img src=\"https://colab.research.google.com/assets/colab-badge.svg\" alt=\"Open In Colab\"/></a>"
      ]
    },
    {
      "cell_type": "markdown",
      "source": [
        "# TextMining"
      ],
      "metadata": {
        "id": "zd0ceILx4_yY"
      }
    },
    {
      "cell_type": "markdown",
      "source": [
        "한글 설정 코딩"
      ],
      "metadata": {
        "id": "7ddhbUZ7484U"
      }
    },
    {
      "cell_type": "code",
      "execution_count": 1,
      "metadata": {
        "colab": {
          "base_uri": "https://localhost:8080/"
        },
        "id": "GKTYEZiDyObe",
        "outputId": "3ea856bf-c99c-41f6-fabd-db31c93d8733"
      },
      "outputs": [
        {
          "output_type": "stream",
          "name": "stdout",
          "text": [
            "fonts-nanum is already the newest version (20170925-1).\n",
            "The following package was automatically installed and is no longer required:\n",
            "  libnvidia-common-460\n",
            "Use 'apt autoremove' to remove it.\n",
            "0 upgraded, 0 newly installed, 0 to remove and 62 not upgraded.\n"
          ]
        }
      ],
      "source": [
        "import matplotlib as mpl\n",
        "import matplotlib.pyplot as plt\n",
        " \n",
        "%config InlineBackend.figure_format = 'retina'\n",
        " \n",
        "!apt -qq -y install fonts-nanum\n",
        " \n",
        "import matplotlib.font_manager as fm\n",
        "fontpath = '/usr/share/fonts/truetype/nanum/NanumBarunGothic.ttf'\n",
        "font = fm.FontProperties(fname=fontpath, size=9)\n",
        "plt.rc('font', family='NanumBarunGothic') \n",
        "mpl.font_manager._rebuild()"
      ]
    },
    {
      "cell_type": "code",
      "source": [
        "import pandas as pd\n",
        "df = pd.read_table('news_data.csv' , sep = ',')\n",
        "df"
      ],
      "metadata": {
        "colab": {
          "base_uri": "https://localhost:8080/",
          "height": 423
        },
        "id": "riSb8vgA07-U",
        "outputId": "4b8576b2-ca8a-42be-c858-ed4818ab1701"
      },
      "execution_count": 2,
      "outputs": [
        {
          "output_type": "execute_result",
          "data": {
            "text/plain": [
              "                                                  news   code\n",
              "0    [파주=파이낸셜뉴스 강근주 기자] 파주시는 4일 관내 취약계층 1만9379가구에 대...     사회\n",
              "1    이천 물류창고 화재 발화지점으로 지목된 지하 2층에서 산소절단기의 산소 공급 호스가...     사회\n",
              "2    [의정부=파이낸셜뉴스 강근주 기자] 황범순 의정부시 부시장은 4일 시공 중인 을지대...     사회\n",
              "3    귀갓길 여성을 쫓아가 성범죄를 시도한 20대 남성이 구속됐습니다.서울 강남경찰서는 ...     사회\n",
              "4    (서울=연합뉴스) 대한약사회가 6일부터 코로나바이러스 감염증 대응 체계를 '사회적 ...     사회\n",
              "..                                                 ...    ...\n",
              "595  (지디넷코리아=이도원 기자)스마일게이트알피지(대표 지원길)는 블록버스터 핵앤슬래시 ...  IT/과학\n",
              "596  (서울=뉴스1) 송화연 기자 = 공유버스 플랫폼 모두의셔틀은 신종 코로나바이러스 감...  IT/과학\n",
              "597  휴온스의 신종 코로나바이러스 감염증(코로나19) 관련 방역용품이 미국 수출길에 오른...  IT/과학\n",
              "598  http://news.kbs.co.kr/news/list.do?icd=19588\\n...  IT/과학\n",
              "599  [Copyright ⓒ 전자신문 & 전자신문인터넷, 무단전재 및 재배포 금지]\\n\\...  IT/과학\n",
              "\n",
              "[600 rows x 2 columns]"
            ],
            "text/html": [
              "\n",
              "  <div id=\"df-9f6cb331-2df2-4b05-976a-97cfdd50e6ab\">\n",
              "    <div class=\"colab-df-container\">\n",
              "      <div>\n",
              "<style scoped>\n",
              "    .dataframe tbody tr th:only-of-type {\n",
              "        vertical-align: middle;\n",
              "    }\n",
              "\n",
              "    .dataframe tbody tr th {\n",
              "        vertical-align: top;\n",
              "    }\n",
              "\n",
              "    .dataframe thead th {\n",
              "        text-align: right;\n",
              "    }\n",
              "</style>\n",
              "<table border=\"1\" class=\"dataframe\">\n",
              "  <thead>\n",
              "    <tr style=\"text-align: right;\">\n",
              "      <th></th>\n",
              "      <th>news</th>\n",
              "      <th>code</th>\n",
              "    </tr>\n",
              "  </thead>\n",
              "  <tbody>\n",
              "    <tr>\n",
              "      <th>0</th>\n",
              "      <td>[파주=파이낸셜뉴스 강근주 기자] 파주시는 4일 관내 취약계층 1만9379가구에 대...</td>\n",
              "      <td>사회</td>\n",
              "    </tr>\n",
              "    <tr>\n",
              "      <th>1</th>\n",
              "      <td>이천 물류창고 화재 발화지점으로 지목된 지하 2층에서 산소절단기의 산소 공급 호스가...</td>\n",
              "      <td>사회</td>\n",
              "    </tr>\n",
              "    <tr>\n",
              "      <th>2</th>\n",
              "      <td>[의정부=파이낸셜뉴스 강근주 기자] 황범순 의정부시 부시장은 4일 시공 중인 을지대...</td>\n",
              "      <td>사회</td>\n",
              "    </tr>\n",
              "    <tr>\n",
              "      <th>3</th>\n",
              "      <td>귀갓길 여성을 쫓아가 성범죄를 시도한 20대 남성이 구속됐습니다.서울 강남경찰서는 ...</td>\n",
              "      <td>사회</td>\n",
              "    </tr>\n",
              "    <tr>\n",
              "      <th>4</th>\n",
              "      <td>(서울=연합뉴스) 대한약사회가 6일부터 코로나바이러스 감염증 대응 체계를 '사회적 ...</td>\n",
              "      <td>사회</td>\n",
              "    </tr>\n",
              "    <tr>\n",
              "      <th>...</th>\n",
              "      <td>...</td>\n",
              "      <td>...</td>\n",
              "    </tr>\n",
              "    <tr>\n",
              "      <th>595</th>\n",
              "      <td>(지디넷코리아=이도원 기자)스마일게이트알피지(대표 지원길)는 블록버스터 핵앤슬래시 ...</td>\n",
              "      <td>IT/과학</td>\n",
              "    </tr>\n",
              "    <tr>\n",
              "      <th>596</th>\n",
              "      <td>(서울=뉴스1) 송화연 기자 = 공유버스 플랫폼 모두의셔틀은 신종 코로나바이러스 감...</td>\n",
              "      <td>IT/과학</td>\n",
              "    </tr>\n",
              "    <tr>\n",
              "      <th>597</th>\n",
              "      <td>휴온스의 신종 코로나바이러스 감염증(코로나19) 관련 방역용품이 미국 수출길에 오른...</td>\n",
              "      <td>IT/과학</td>\n",
              "    </tr>\n",
              "    <tr>\n",
              "      <th>598</th>\n",
              "      <td>http://news.kbs.co.kr/news/list.do?icd=19588\\n...</td>\n",
              "      <td>IT/과학</td>\n",
              "    </tr>\n",
              "    <tr>\n",
              "      <th>599</th>\n",
              "      <td>[Copyright ⓒ 전자신문 &amp; 전자신문인터넷, 무단전재 및 재배포 금지]\\n\\...</td>\n",
              "      <td>IT/과학</td>\n",
              "    </tr>\n",
              "  </tbody>\n",
              "</table>\n",
              "<p>600 rows × 2 columns</p>\n",
              "</div>\n",
              "      <button class=\"colab-df-convert\" onclick=\"convertToInteractive('df-9f6cb331-2df2-4b05-976a-97cfdd50e6ab')\"\n",
              "              title=\"Convert this dataframe to an interactive table.\"\n",
              "              style=\"display:none;\">\n",
              "        \n",
              "  <svg xmlns=\"http://www.w3.org/2000/svg\" height=\"24px\"viewBox=\"0 0 24 24\"\n",
              "       width=\"24px\">\n",
              "    <path d=\"M0 0h24v24H0V0z\" fill=\"none\"/>\n",
              "    <path d=\"M18.56 5.44l.94 2.06.94-2.06 2.06-.94-2.06-.94-.94-2.06-.94 2.06-2.06.94zm-11 1L8.5 8.5l.94-2.06 2.06-.94-2.06-.94L8.5 2.5l-.94 2.06-2.06.94zm10 10l.94 2.06.94-2.06 2.06-.94-2.06-.94-.94-2.06-.94 2.06-2.06.94z\"/><path d=\"M17.41 7.96l-1.37-1.37c-.4-.4-.92-.59-1.43-.59-.52 0-1.04.2-1.43.59L10.3 9.45l-7.72 7.72c-.78.78-.78 2.05 0 2.83L4 21.41c.39.39.9.59 1.41.59.51 0 1.02-.2 1.41-.59l7.78-7.78 2.81-2.81c.8-.78.8-2.07 0-2.86zM5.41 20L4 18.59l7.72-7.72 1.47 1.35L5.41 20z\"/>\n",
              "  </svg>\n",
              "      </button>\n",
              "      \n",
              "  <style>\n",
              "    .colab-df-container {\n",
              "      display:flex;\n",
              "      flex-wrap:wrap;\n",
              "      gap: 12px;\n",
              "    }\n",
              "\n",
              "    .colab-df-convert {\n",
              "      background-color: #E8F0FE;\n",
              "      border: none;\n",
              "      border-radius: 50%;\n",
              "      cursor: pointer;\n",
              "      display: none;\n",
              "      fill: #1967D2;\n",
              "      height: 32px;\n",
              "      padding: 0 0 0 0;\n",
              "      width: 32px;\n",
              "    }\n",
              "\n",
              "    .colab-df-convert:hover {\n",
              "      background-color: #E2EBFA;\n",
              "      box-shadow: 0px 1px 2px rgba(60, 64, 67, 0.3), 0px 1px 3px 1px rgba(60, 64, 67, 0.15);\n",
              "      fill: #174EA6;\n",
              "    }\n",
              "\n",
              "    [theme=dark] .colab-df-convert {\n",
              "      background-color: #3B4455;\n",
              "      fill: #D2E3FC;\n",
              "    }\n",
              "\n",
              "    [theme=dark] .colab-df-convert:hover {\n",
              "      background-color: #434B5C;\n",
              "      box-shadow: 0px 1px 3px 1px rgba(0, 0, 0, 0.15);\n",
              "      filter: drop-shadow(0px 1px 2px rgba(0, 0, 0, 0.3));\n",
              "      fill: #FFFFFF;\n",
              "    }\n",
              "  </style>\n",
              "\n",
              "      <script>\n",
              "        const buttonEl =\n",
              "          document.querySelector('#df-9f6cb331-2df2-4b05-976a-97cfdd50e6ab button.colab-df-convert');\n",
              "        buttonEl.style.display =\n",
              "          google.colab.kernel.accessAllowed ? 'block' : 'none';\n",
              "\n",
              "        async function convertToInteractive(key) {\n",
              "          const element = document.querySelector('#df-9f6cb331-2df2-4b05-976a-97cfdd50e6ab');\n",
              "          const dataTable =\n",
              "            await google.colab.kernel.invokeFunction('convertToInteractive',\n",
              "                                                     [key], {});\n",
              "          if (!dataTable) return;\n",
              "\n",
              "          const docLinkHtml = 'Like what you see? Visit the ' +\n",
              "            '<a target=\"_blank\" href=https://colab.research.google.com/notebooks/data_table.ipynb>data table notebook</a>'\n",
              "            + ' to learn more about interactive tables.';\n",
              "          element.innerHTML = '';\n",
              "          dataTable['output_type'] = 'display_data';\n",
              "          await google.colab.output.renderOutput(dataTable, element);\n",
              "          const docLink = document.createElement('div');\n",
              "          docLink.innerHTML = docLinkHtml;\n",
              "          element.appendChild(docLink);\n",
              "        }\n",
              "      </script>\n",
              "    </div>\n",
              "  </div>\n",
              "  "
            ]
          },
          "metadata": {},
          "execution_count": 2
        }
      ]
    },
    {
      "cell_type": "code",
      "source": [
        "df.isnull() # 빈행이 있는가?"
      ],
      "metadata": {
        "colab": {
          "base_uri": "https://localhost:8080/",
          "height": 423
        },
        "id": "Po1Wr71O4wGG",
        "outputId": "d4c99a4c-8ea6-4f2c-98ca-52f308414b45"
      },
      "execution_count": 3,
      "outputs": [
        {
          "output_type": "execute_result",
          "data": {
            "text/plain": [
              "      news   code\n",
              "0    False  False\n",
              "1    False  False\n",
              "2    False  False\n",
              "3    False  False\n",
              "4    False  False\n",
              "..     ...    ...\n",
              "595  False  False\n",
              "596  False  False\n",
              "597  False  False\n",
              "598  False  False\n",
              "599  False  False\n",
              "\n",
              "[600 rows x 2 columns]"
            ],
            "text/html": [
              "\n",
              "  <div id=\"df-66a51765-9631-41c6-a01a-6171761afca7\">\n",
              "    <div class=\"colab-df-container\">\n",
              "      <div>\n",
              "<style scoped>\n",
              "    .dataframe tbody tr th:only-of-type {\n",
              "        vertical-align: middle;\n",
              "    }\n",
              "\n",
              "    .dataframe tbody tr th {\n",
              "        vertical-align: top;\n",
              "    }\n",
              "\n",
              "    .dataframe thead th {\n",
              "        text-align: right;\n",
              "    }\n",
              "</style>\n",
              "<table border=\"1\" class=\"dataframe\">\n",
              "  <thead>\n",
              "    <tr style=\"text-align: right;\">\n",
              "      <th></th>\n",
              "      <th>news</th>\n",
              "      <th>code</th>\n",
              "    </tr>\n",
              "  </thead>\n",
              "  <tbody>\n",
              "    <tr>\n",
              "      <th>0</th>\n",
              "      <td>False</td>\n",
              "      <td>False</td>\n",
              "    </tr>\n",
              "    <tr>\n",
              "      <th>1</th>\n",
              "      <td>False</td>\n",
              "      <td>False</td>\n",
              "    </tr>\n",
              "    <tr>\n",
              "      <th>2</th>\n",
              "      <td>False</td>\n",
              "      <td>False</td>\n",
              "    </tr>\n",
              "    <tr>\n",
              "      <th>3</th>\n",
              "      <td>False</td>\n",
              "      <td>False</td>\n",
              "    </tr>\n",
              "    <tr>\n",
              "      <th>4</th>\n",
              "      <td>False</td>\n",
              "      <td>False</td>\n",
              "    </tr>\n",
              "    <tr>\n",
              "      <th>...</th>\n",
              "      <td>...</td>\n",
              "      <td>...</td>\n",
              "    </tr>\n",
              "    <tr>\n",
              "      <th>595</th>\n",
              "      <td>False</td>\n",
              "      <td>False</td>\n",
              "    </tr>\n",
              "    <tr>\n",
              "      <th>596</th>\n",
              "      <td>False</td>\n",
              "      <td>False</td>\n",
              "    </tr>\n",
              "    <tr>\n",
              "      <th>597</th>\n",
              "      <td>False</td>\n",
              "      <td>False</td>\n",
              "    </tr>\n",
              "    <tr>\n",
              "      <th>598</th>\n",
              "      <td>False</td>\n",
              "      <td>False</td>\n",
              "    </tr>\n",
              "    <tr>\n",
              "      <th>599</th>\n",
              "      <td>False</td>\n",
              "      <td>False</td>\n",
              "    </tr>\n",
              "  </tbody>\n",
              "</table>\n",
              "<p>600 rows × 2 columns</p>\n",
              "</div>\n",
              "      <button class=\"colab-df-convert\" onclick=\"convertToInteractive('df-66a51765-9631-41c6-a01a-6171761afca7')\"\n",
              "              title=\"Convert this dataframe to an interactive table.\"\n",
              "              style=\"display:none;\">\n",
              "        \n",
              "  <svg xmlns=\"http://www.w3.org/2000/svg\" height=\"24px\"viewBox=\"0 0 24 24\"\n",
              "       width=\"24px\">\n",
              "    <path d=\"M0 0h24v24H0V0z\" fill=\"none\"/>\n",
              "    <path d=\"M18.56 5.44l.94 2.06.94-2.06 2.06-.94-2.06-.94-.94-2.06-.94 2.06-2.06.94zm-11 1L8.5 8.5l.94-2.06 2.06-.94-2.06-.94L8.5 2.5l-.94 2.06-2.06.94zm10 10l.94 2.06.94-2.06 2.06-.94-2.06-.94-.94-2.06-.94 2.06-2.06.94z\"/><path d=\"M17.41 7.96l-1.37-1.37c-.4-.4-.92-.59-1.43-.59-.52 0-1.04.2-1.43.59L10.3 9.45l-7.72 7.72c-.78.78-.78 2.05 0 2.83L4 21.41c.39.39.9.59 1.41.59.51 0 1.02-.2 1.41-.59l7.78-7.78 2.81-2.81c.8-.78.8-2.07 0-2.86zM5.41 20L4 18.59l7.72-7.72 1.47 1.35L5.41 20z\"/>\n",
              "  </svg>\n",
              "      </button>\n",
              "      \n",
              "  <style>\n",
              "    .colab-df-container {\n",
              "      display:flex;\n",
              "      flex-wrap:wrap;\n",
              "      gap: 12px;\n",
              "    }\n",
              "\n",
              "    .colab-df-convert {\n",
              "      background-color: #E8F0FE;\n",
              "      border: none;\n",
              "      border-radius: 50%;\n",
              "      cursor: pointer;\n",
              "      display: none;\n",
              "      fill: #1967D2;\n",
              "      height: 32px;\n",
              "      padding: 0 0 0 0;\n",
              "      width: 32px;\n",
              "    }\n",
              "\n",
              "    .colab-df-convert:hover {\n",
              "      background-color: #E2EBFA;\n",
              "      box-shadow: 0px 1px 2px rgba(60, 64, 67, 0.3), 0px 1px 3px 1px rgba(60, 64, 67, 0.15);\n",
              "      fill: #174EA6;\n",
              "    }\n",
              "\n",
              "    [theme=dark] .colab-df-convert {\n",
              "      background-color: #3B4455;\n",
              "      fill: #D2E3FC;\n",
              "    }\n",
              "\n",
              "    [theme=dark] .colab-df-convert:hover {\n",
              "      background-color: #434B5C;\n",
              "      box-shadow: 0px 1px 3px 1px rgba(0, 0, 0, 0.15);\n",
              "      filter: drop-shadow(0px 1px 2px rgba(0, 0, 0, 0.3));\n",
              "      fill: #FFFFFF;\n",
              "    }\n",
              "  </style>\n",
              "\n",
              "      <script>\n",
              "        const buttonEl =\n",
              "          document.querySelector('#df-66a51765-9631-41c6-a01a-6171761afca7 button.colab-df-convert');\n",
              "        buttonEl.style.display =\n",
              "          google.colab.kernel.accessAllowed ? 'block' : 'none';\n",
              "\n",
              "        async function convertToInteractive(key) {\n",
              "          const element = document.querySelector('#df-66a51765-9631-41c6-a01a-6171761afca7');\n",
              "          const dataTable =\n",
              "            await google.colab.kernel.invokeFunction('convertToInteractive',\n",
              "                                                     [key], {});\n",
              "          if (!dataTable) return;\n",
              "\n",
              "          const docLinkHtml = 'Like what you see? Visit the ' +\n",
              "            '<a target=\"_blank\" href=https://colab.research.google.com/notebooks/data_table.ipynb>data table notebook</a>'\n",
              "            + ' to learn more about interactive tables.';\n",
              "          element.innerHTML = '';\n",
              "          dataTable['output_type'] = 'display_data';\n",
              "          await google.colab.output.renderOutput(dataTable, element);\n",
              "          const docLink = document.createElement('div');\n",
              "          docLink.innerHTML = docLinkHtml;\n",
              "          element.appendChild(docLink);\n",
              "        }\n",
              "      </script>\n",
              "    </div>\n",
              "  </div>\n",
              "  "
            ]
          },
          "metadata": {},
          "execution_count": 3
        }
      ]
    },
    {
      "cell_type": "markdown",
      "source": [
        "**데이터 테이블 정리**"
      ],
      "metadata": {
        "id": "1mPA24_vzxsu"
      }
    },
    {
      "cell_type": "code",
      "source": [
        "print(df.isnull().sum())  #빈행이 몇개인가? 확인하기"
      ],
      "metadata": {
        "colab": {
          "base_uri": "https://localhost:8080/"
        },
        "id": "9TT0ustTP2aL",
        "outputId": "2e45ebad-78d2-4542-aa52-9b59d832ee5a"
      },
      "execution_count": 4,
      "outputs": [
        {
          "output_type": "stream",
          "name": "stdout",
          "text": [
            "news    0\n",
            "code    0\n",
            "dtype: int64\n"
          ]
        }
      ]
    },
    {
      "cell_type": "code",
      "source": [
        "df['news'].unique()"
      ],
      "metadata": {
        "id": "YtFQIudrQCQZ"
      },
      "execution_count": null,
      "outputs": []
    },
    {
      "cell_type": "code",
      "source": [
        "df['code'].unique() #중복제외하고 하나씩 존재하는 값 출력"
      ],
      "metadata": {
        "colab": {
          "base_uri": "https://localhost:8080/"
        },
        "id": "YiUB6dhJQTI5",
        "outputId": "c1ae656b-4429-47af-871d-7571485ce4e8"
      },
      "execution_count": 6,
      "outputs": [
        {
          "output_type": "execute_result",
          "data": {
            "text/plain": [
              "array(['사회', '생활/문화', 'IT/과학'], dtype=object)"
            ]
          },
          "metadata": {},
          "execution_count": 6
        }
      ]
    },
    {
      "cell_type": "code",
      "source": [
        "df['code'].nunique() #유니크 한 것의 개수?"
      ],
      "metadata": {
        "colab": {
          "base_uri": "https://localhost:8080/"
        },
        "id": "5gLzYhXmQiZt",
        "outputId": "3d692501-2db4-41c1-a379-61a79b34b4da"
      },
      "execution_count": 7,
      "outputs": [
        {
          "output_type": "execute_result",
          "data": {
            "text/plain": [
              "3"
            ]
          },
          "metadata": {},
          "execution_count": 7
        }
      ]
    },
    {
      "cell_type": "code",
      "source": [
        "df['news'].nunique() #중복된 값이 54개 있다."
      ],
      "metadata": {
        "colab": {
          "base_uri": "https://localhost:8080/"
        },
        "id": "3hT2rj1CQoLa",
        "outputId": "f8a035d0-5dfd-4b16-8a9a-fdb653ee037c"
      },
      "execution_count": 8,
      "outputs": [
        {
          "output_type": "execute_result",
          "data": {
            "text/plain": [
              "546"
            ]
          },
          "metadata": {},
          "execution_count": 8
        }
      ]
    },
    {
      "cell_type": "code",
      "source": [
        "df.drop_duplicates(subset=['news'], inplace = True) \n",
        "#중복된 데이터 삭제 \n",
        "#inplace=True 로 인해 원본데이터 프레임에 중복 데이터 삭제\n",
        "# 없으면 원본데이터에는 변함 없음 / 중복 삭제된 데이터를 다른곳에 저장은 가능"
      ],
      "metadata": {
        "id": "GpIvaOp2WGYK"
      },
      "execution_count": 9,
      "outputs": []
    },
    {
      "cell_type": "code",
      "source": [
        "len(df)"
      ],
      "metadata": {
        "colab": {
          "base_uri": "https://localhost:8080/"
        },
        "id": "wXrDja3mywks",
        "outputId": "3343b75f-4ac1-4c56-fa7a-7933641f98b9"
      },
      "execution_count": 10,
      "outputs": [
        {
          "output_type": "execute_result",
          "data": {
            "text/plain": [
              "546"
            ]
          },
          "metadata": {},
          "execution_count": 10
        }
      ]
    },
    {
      "cell_type": "code",
      "source": [
        "df['code'].value_counts().plot(kind =\"bar\")"
      ],
      "metadata": {
        "colab": {
          "base_uri": "https://localhost:8080/",
          "height": 314
        },
        "id": "DjX8lnjgy6A8",
        "outputId": "e25645b8-255d-4032-dcdb-5b5d7320e6e6"
      },
      "execution_count": 12,
      "outputs": [
        {
          "output_type": "execute_result",
          "data": {
            "text/plain": [
              "<matplotlib.axes._subplots.AxesSubplot at 0x7ffb441e8750>"
            ]
          },
          "metadata": {},
          "execution_count": 12
        },
        {
          "output_type": "display_data",
          "data": {
            "text/plain": [
              "<Figure size 432x288 with 1 Axes>"
            ],
            "image/png": "[encoded data removed]"
          },
          "metadata": {
            "image/png": {
              "width": 373,
              "height": 279
            },
            "needs_background": "light"
          }
        }
      ]
    },
    {
      "cell_type": "markdown",
      "source": [
        "# 형태소 분석"
      ],
      "metadata": {
        "id": "lnEoMCKvzevS"
      }
    },
    {
      "cell_type": "code",
      "source": [
        "!pip install konlpy"
      ],
      "metadata": {
        "id": "LcaZqPbZzhbU"
      },
      "execution_count": null,
      "outputs": []
    },
    {
      "cell_type": "code",
      "source": [
        "from konlpy.tag import Okt # 명사 분석기"
      ],
      "metadata": {
        "id": "ljKbDKzn06dv"
      },
      "execution_count": 14,
      "outputs": []
    },
    {
      "cell_type": "code",
      "source": [
        "tokenizer = Okt() #명사 분석기를 tokenizer라는 이름으로 이제 사용한다는 뜻\n",
        "\n",
        "kor_text = '밤에 귀가하던 여성에게 범죄를 시도한 대 남성이 구속됐다서울 제주경찰서는 \\\n",
        "            상해 혐의로 씨를 구속해 수사하고 있다고 일 밝혔다씨는 지난달 일 피해 여성을 \\\n",
        "            인근 지하철 역에서부터 따라가 폭행을 시도하려다가 도망간 혐의를 받는다피해 \\\n",
        "            여성이 저항하자 놀란 씨는 도망갔으며 신고를 받고 주변을 수색하던 경찰에 \\\n",
        "            체포됐다피해 여성은 이 과정에서 경미한 부상을 입은 것으로 전해졌다'"
      ],
      "metadata": {
        "id": "bkoRXpiS1GIz"
      },
      "execution_count": 15,
      "outputs": []
    },
    {
      "cell_type": "code",
      "source": [
        "print(tokenizer.nouns(kor_text)) #명사만 뽑아내겠다"
      ],
      "metadata": {
        "colab": {
          "base_uri": "https://localhost:8080/"
        },
        "id": "hFwuofb91Y3T",
        "outputId": "4c1529fe-a541-4ed1-95e9-5e96cd874303"
      },
      "execution_count": 16,
      "outputs": [
        {
          "output_type": "stream",
          "name": "stdout",
          "text": [
            "['밤', '귀가', '여성', '범죄', '시도', '남성', '구속', '서울', '경찰서', '상해', '혐의', '씨', '구속', '수사', '일', '씨', '지난달', '일', '피해', '여성', '인근', '지하철', '역', '폭행', '시도', '혐의', '피해', '여성', '저항', '놀란', '씨', '신고', '주변', '수색', '경찰', '체포', '피해', '여성', '이', '과정', '부상', '것']\n"
          ]
        }
      ]
    },
    {
      "cell_type": "code",
      "source": [
        "# 데이터의 뉴스들의 토큰화 된 결과를 지속적으로 출력해보면서 지속적으로 추가한 단어들입니다.(불용어)\n",
        "stop_words = ['기자', '제공', '무단', '배포', '무단배포', '배포금지', '이번', '위해', '라며', '금지', '뉴스', '통해', '오늘', '지난달', '지난', '대한', '경우', '관련', '뉴시스', '현재', '지난해', '때문', '지금', '또한', '만큼', '최근', '당시', '올해', '대해', '다시', '모두']"
      ],
      "metadata": {
        "id": "6eMT9KeQ1w7m"
      },
      "execution_count": 21,
      "outputs": []
    },
    {
      "cell_type": "code",
      "source": [
        "df['tokenized'] = df['news'].apply(tokenizer.nouns)"
      ],
      "metadata": {
        "id": "jbSwCDjv2POk"
      },
      "execution_count": 17,
      "outputs": []
    },
    {
      "cell_type": "code",
      "source": [
        "df"
      ],
      "metadata": {
        "colab": {
          "base_uri": "https://localhost:8080/",
          "height": 423
        },
        "id": "h_2dH4zC3VfM",
        "outputId": "ecaf80bd-6eb1-40c3-fa83-6871dc8bd632"
      },
      "execution_count": 18,
      "outputs": [
        {
          "output_type": "execute_result",
          "data": {
            "text/plain": [
              "                                                  news   code  \\\n",
              "0    [파주=파이낸셜뉴스 강근주 기자] 파주시는 4일 관내 취약계층 1만9379가구에 대...     사회   \n",
              "1    이천 물류창고 화재 발화지점으로 지목된 지하 2층에서 산소절단기의 산소 공급 호스가...     사회   \n",
              "2    [의정부=파이낸셜뉴스 강근주 기자] 황범순 의정부시 부시장은 4일 시공 중인 을지대...     사회   \n",
              "3    귀갓길 여성을 쫓아가 성범죄를 시도한 20대 남성이 구속됐습니다.서울 강남경찰서는 ...     사회   \n",
              "4    (서울=연합뉴스) 대한약사회가 6일부터 코로나바이러스 감염증 대응 체계를 '사회적 ...     사회   \n",
              "..                                                 ...    ...   \n",
              "595  (지디넷코리아=이도원 기자)스마일게이트알피지(대표 지원길)는 블록버스터 핵앤슬래시 ...  IT/과학   \n",
              "596  (서울=뉴스1) 송화연 기자 = 공유버스 플랫폼 모두의셔틀은 신종 코로나바이러스 감...  IT/과학   \n",
              "597  휴온스의 신종 코로나바이러스 감염증(코로나19) 관련 방역용품이 미국 수출길에 오른...  IT/과학   \n",
              "598  http://news.kbs.co.kr/news/list.do?icd=19588\\n...  IT/과학   \n",
              "599  [Copyright ⓒ 전자신문 & 전자신문인터넷, 무단전재 및 재배포 금지]\\n\\...  IT/과학   \n",
              "\n",
              "                                             tokenized  \n",
              "0    [파주, 파이낸셜뉴스, 강, 주, 기자, 파주시, 관내, 취약, 계층, 가구, 대해...  \n",
              "1    [이천, 물류, 창고, 화재, 발화, 지점, 지목, 지하, 층, 산소, 절, 단기,...  \n",
              "2    [의정부, 파이낸셜뉴스, 강, 주, 기자, 황범, 순, 의정부시, 부시장, 시공, ...  \n",
              "3    [갓길, 여성, 성범죄, 시도, 남성, 구속, 서울, 강남, 경찰서, 강간, 상해,...  \n",
              "4    [서울, 연합뉴스, 사회, 코로나바이러스, 감염증, 대응, 체계, 사회, 거리, 두...  \n",
              "..                                                 ...  \n",
              "595  [넷, 코리아, 이도, 기자, 스마일게이트, 알피, 대표, 지원, 길, 블록버스터,...  \n",
              "596  [서울, 뉴스, 송화, 연, 기자, 공유, 버스, 플랫폼, 모두, 셔틀, 신종, 코...  \n",
              "597  [온스, 신종, 코로나바이러스, 감염증, 코로나, 관련, 방역, 용품, 미국, 수출...  \n",
              "598  [코로나, 치료, 제, 백신, 개발, 범, 정부, 원단, 오늘, 부터, 이틀, 동안...  \n",
              "599  [전자신문, 전자신문, 인터넷, 무단, 재, 및, 재, 배포, 금지, 이재용, 삼성...  \n",
              "\n",
              "[546 rows x 3 columns]"
            ],
            "text/html": [
              "\n",
              "  <div id=\"df-66cf1895-acf5-4279-9a03-248338f1c05f\">\n",
              "    <div class=\"colab-df-container\">\n",
              "      <div>\n",
              "<style scoped>\n",
              "    .dataframe tbody tr th:only-of-type {\n",
              "        vertical-align: middle;\n",
              "    }\n",
              "\n",
              "    .dataframe tbody tr th {\n",
              "        vertical-align: top;\n",
              "    }\n",
              "\n",
              "    .dataframe thead th {\n",
              "        text-align: right;\n",
              "    }\n",
              "</style>\n",
              "<table border=\"1\" class=\"dataframe\">\n",
              "  <thead>\n",
              "    <tr style=\"text-align: right;\">\n",
              "      <th></th>\n",
              "      <th>news</th>\n",
              "      <th>code</th>\n",
              "      <th>tokenized</th>\n",
              "    </tr>\n",
              "  </thead>\n",
              "  <tbody>\n",
              "    <tr>\n",
              "      <th>0</th>\n",
              "      <td>[파주=파이낸셜뉴스 강근주 기자] 파주시는 4일 관내 취약계층 1만9379가구에 대...</td>\n",
              "      <td>사회</td>\n",
              "      <td>[파주, 파이낸셜뉴스, 강, 주, 기자, 파주시, 관내, 취약, 계층, 가구, 대해...</td>\n",
              "    </tr>\n",
              "    <tr>\n",
              "      <th>1</th>\n",
              "      <td>이천 물류창고 화재 발화지점으로 지목된 지하 2층에서 산소절단기의 산소 공급 호스가...</td>\n",
              "      <td>사회</td>\n",
              "      <td>[이천, 물류, 창고, 화재, 발화, 지점, 지목, 지하, 층, 산소, 절, 단기,...</td>\n",
              "    </tr>\n",
              "    <tr>\n",
              "      <th>2</th>\n",
              "      <td>[의정부=파이낸셜뉴스 강근주 기자] 황범순 의정부시 부시장은 4일 시공 중인 을지대...</td>\n",
              "      <td>사회</td>\n",
              "      <td>[의정부, 파이낸셜뉴스, 강, 주, 기자, 황범, 순, 의정부시, 부시장, 시공, ...</td>\n",
              "    </tr>\n",
              "    <tr>\n",
              "      <th>3</th>\n",
              "      <td>귀갓길 여성을 쫓아가 성범죄를 시도한 20대 남성이 구속됐습니다.서울 강남경찰서는 ...</td>\n",
              "      <td>사회</td>\n",
              "      <td>[갓길, 여성, 성범죄, 시도, 남성, 구속, 서울, 강남, 경찰서, 강간, 상해,...</td>\n",
              "    </tr>\n",
              "    <tr>\n",
              "      <th>4</th>\n",
              "      <td>(서울=연합뉴스) 대한약사회가 6일부터 코로나바이러스 감염증 대응 체계를 '사회적 ...</td>\n",
              "      <td>사회</td>\n",
              "      <td>[서울, 연합뉴스, 사회, 코로나바이러스, 감염증, 대응, 체계, 사회, 거리, 두...</td>\n",
              "    </tr>\n",
              "    <tr>\n",
              "      <th>...</th>\n",
              "      <td>...</td>\n",
              "      <td>...</td>\n",
              "      <td>...</td>\n",
              "    </tr>\n",
              "    <tr>\n",
              "      <th>595</th>\n",
              "      <td>(지디넷코리아=이도원 기자)스마일게이트알피지(대표 지원길)는 블록버스터 핵앤슬래시 ...</td>\n",
              "      <td>IT/과학</td>\n",
              "      <td>[넷, 코리아, 이도, 기자, 스마일게이트, 알피, 대표, 지원, 길, 블록버스터,...</td>\n",
              "    </tr>\n",
              "    <tr>\n",
              "      <th>596</th>\n",
              "      <td>(서울=뉴스1) 송화연 기자 = 공유버스 플랫폼 모두의셔틀은 신종 코로나바이러스 감...</td>\n",
              "      <td>IT/과학</td>\n",
              "      <td>[서울, 뉴스, 송화, 연, 기자, 공유, 버스, 플랫폼, 모두, 셔틀, 신종, 코...</td>\n",
              "    </tr>\n",
              "    <tr>\n",
              "      <th>597</th>\n",
              "      <td>휴온스의 신종 코로나바이러스 감염증(코로나19) 관련 방역용품이 미국 수출길에 오른...</td>\n",
              "      <td>IT/과학</td>\n",
              "      <td>[온스, 신종, 코로나바이러스, 감염증, 코로나, 관련, 방역, 용품, 미국, 수출...</td>\n",
              "    </tr>\n",
              "    <tr>\n",
              "      <th>598</th>\n",
              "      <td>http://news.kbs.co.kr/news/list.do?icd=19588\\n...</td>\n",
              "      <td>IT/과학</td>\n",
              "      <td>[코로나, 치료, 제, 백신, 개발, 범, 정부, 원단, 오늘, 부터, 이틀, 동안...</td>\n",
              "    </tr>\n",
              "    <tr>\n",
              "      <th>599</th>\n",
              "      <td>[Copyright ⓒ 전자신문 &amp; 전자신문인터넷, 무단전재 및 재배포 금지]\\n\\...</td>\n",
              "      <td>IT/과학</td>\n",
              "      <td>[전자신문, 전자신문, 인터넷, 무단, 재, 및, 재, 배포, 금지, 이재용, 삼성...</td>\n",
              "    </tr>\n",
              "  </tbody>\n",
              "</table>\n",
              "<p>546 rows × 3 columns</p>\n",
              "</div>\n",
              "      <button class=\"colab-df-convert\" onclick=\"convertToInteractive('df-66cf1895-acf5-4279-9a03-248338f1c05f')\"\n",
              "              title=\"Convert this dataframe to an interactive table.\"\n",
              "              style=\"display:none;\">\n",
              "        \n",
              "  <svg xmlns=\"http://www.w3.org/2000/svg\" height=\"24px\"viewBox=\"0 0 24 24\"\n",
              "       width=\"24px\">\n",
              "    <path d=\"M0 0h24v24H0V0z\" fill=\"none\"/>\n",
              "    <path d=\"M18.56 5.44l.94 2.06.94-2.06 2.06-.94-2.06-.94-.94-2.06-.94 2.06-2.06.94zm-11 1L8.5 8.5l.94-2.06 2.06-.94-2.06-.94L8.5 2.5l-.94 2.06-2.06.94zm10 10l.94 2.06.94-2.06 2.06-.94-2.06-.94-.94-2.06-.94 2.06-2.06.94z\"/><path d=\"M17.41 7.96l-1.37-1.37c-.4-.4-.92-.59-1.43-.59-.52 0-1.04.2-1.43.59L10.3 9.45l-7.72 7.72c-.78.78-.78 2.05 0 2.83L4 21.41c.39.39.9.59 1.41.59.51 0 1.02-.2 1.41-.59l7.78-7.78 2.81-2.81c.8-.78.8-2.07 0-2.86zM5.41 20L4 18.59l7.72-7.72 1.47 1.35L5.41 20z\"/>\n",
              "  </svg>\n",
              "      </button>\n",
              "      \n",
              "  <style>\n",
              "    .colab-df-container {\n",
              "      display:flex;\n",
              "      flex-wrap:wrap;\n",
              "      gap: 12px;\n",
              "    }\n",
              "\n",
              "    .colab-df-convert {\n",
              "      background-color: #E8F0FE;\n",
              "      border: none;\n",
              "      border-radius: 50%;\n",
              "      cursor: pointer;\n",
              "      display: none;\n",
              "      fill: #1967D2;\n",
              "      height: 32px;\n",
              "      padding: 0 0 0 0;\n",
              "      width: 32px;\n",
              "    }\n",
              "\n",
              "    .colab-df-convert:hover {\n",
              "      background-color: #E2EBFA;\n",
              "      box-shadow: 0px 1px 2px rgba(60, 64, 67, 0.3), 0px 1px 3px 1px rgba(60, 64, 67, 0.15);\n",
              "      fill: #174EA6;\n",
              "    }\n",
              "\n",
              "    [theme=dark] .colab-df-convert {\n",
              "      background-color: #3B4455;\n",
              "      fill: #D2E3FC;\n",
              "    }\n",
              "\n",
              "    [theme=dark] .colab-df-convert:hover {\n",
              "      background-color: #434B5C;\n",
              "      box-shadow: 0px 1px 3px 1px rgba(0, 0, 0, 0.15);\n",
              "      filter: drop-shadow(0px 1px 2px rgba(0, 0, 0, 0.3));\n",
              "      fill: #FFFFFF;\n",
              "    }\n",
              "  </style>\n",
              "\n",
              "      <script>\n",
              "        const buttonEl =\n",
              "          document.querySelector('#df-66cf1895-acf5-4279-9a03-248338f1c05f button.colab-df-convert');\n",
              "        buttonEl.style.display =\n",
              "          google.colab.kernel.accessAllowed ? 'block' : 'none';\n",
              "\n",
              "        async function convertToInteractive(key) {\n",
              "          const element = document.querySelector('#df-66cf1895-acf5-4279-9a03-248338f1c05f');\n",
              "          const dataTable =\n",
              "            await google.colab.kernel.invokeFunction('convertToInteractive',\n",
              "                                                     [key], {});\n",
              "          if (!dataTable) return;\n",
              "\n",
              "          const docLinkHtml = 'Like what you see? Visit the ' +\n",
              "            '<a target=\"_blank\" href=https://colab.research.google.com/notebooks/data_table.ipynb>data table notebook</a>'\n",
              "            + ' to learn more about interactive tables.';\n",
              "          element.innerHTML = '';\n",
              "          dataTable['output_type'] = 'display_data';\n",
              "          await google.colab.output.renderOutput(dataTable, element);\n",
              "          const docLink = document.createElement('div');\n",
              "          docLink.innerHTML = docLinkHtml;\n",
              "          element.appendChild(docLink);\n",
              "        }\n",
              "      </script>\n",
              "    </div>\n",
              "  </div>\n",
              "  "
            ]
          },
          "metadata": {},
          "execution_count": 18
        }
      ]
    },
    {
      "cell_type": "markdown",
      "source": [
        "리스트 컴프리핸션 연산 예시"
      ],
      "metadata": {
        "id": "n0DR09eA3zTw"
      }
    },
    {
      "cell_type": "code",
      "source": [
        "test_list = ['경찰서', '상해', '혐의', '씨', '구속', '수사', '일']\n",
        "remove_word_list = ['경찰서', '구속']\n",
        "test_list = [item for item in test_list if item not in remove_word_list and len(item) > 1]\n",
        "\n",
        "print(test_list)"
      ],
      "metadata": {
        "colab": {
          "base_uri": "https://localhost:8080/"
        },
        "id": "9vjzg-zb3bBy",
        "outputId": "71ddf565-99e6-4084-ae95-4f7aea9aa8dd"
      },
      "execution_count": 19,
      "outputs": [
        {
          "output_type": "stream",
          "name": "stdout",
          "text": [
            "['상해', '혐의', '수사']\n"
          ]
        }
      ]
    },
    {
      "cell_type": "code",
      "source": [
        "#lambda x : ==> 하나의 행을 x 라고 지칭하겠다.\n",
        "df['tokenized'] = df['tokenized'].apply(lambda x: [item for item in x if item not in stop_words and len(item) > 1])"
      ],
      "metadata": {
        "id": "2_RgTJC56YWX"
      },
      "execution_count": 22,
      "outputs": []
    },
    {
      "cell_type": "code",
      "source": [
        "df"
      ],
      "metadata": {
        "colab": {
          "base_uri": "https://localhost:8080/",
          "height": 423
        },
        "id": "09WXslPB7lHl",
        "outputId": "e832125b-01ab-49e6-be27-740da45c72b5"
      },
      "execution_count": 23,
      "outputs": [
        {
          "output_type": "execute_result",
          "data": {
            "text/plain": [
              "                                                  news   code  \\\n",
              "0    [파주=파이낸셜뉴스 강근주 기자] 파주시는 4일 관내 취약계층 1만9379가구에 대...     사회   \n",
              "1    이천 물류창고 화재 발화지점으로 지목된 지하 2층에서 산소절단기의 산소 공급 호스가...     사회   \n",
              "2    [의정부=파이낸셜뉴스 강근주 기자] 황범순 의정부시 부시장은 4일 시공 중인 을지대...     사회   \n",
              "3    귀갓길 여성을 쫓아가 성범죄를 시도한 20대 남성이 구속됐습니다.서울 강남경찰서는 ...     사회   \n",
              "4    (서울=연합뉴스) 대한약사회가 6일부터 코로나바이러스 감염증 대응 체계를 '사회적 ...     사회   \n",
              "..                                                 ...    ...   \n",
              "595  (지디넷코리아=이도원 기자)스마일게이트알피지(대표 지원길)는 블록버스터 핵앤슬래시 ...  IT/과학   \n",
              "596  (서울=뉴스1) 송화연 기자 = 공유버스 플랫폼 모두의셔틀은 신종 코로나바이러스 감...  IT/과학   \n",
              "597  휴온스의 신종 코로나바이러스 감염증(코로나19) 관련 방역용품이 미국 수출길에 오른...  IT/과학   \n",
              "598  http://news.kbs.co.kr/news/list.do?icd=19588\\n...  IT/과학   \n",
              "599  [Copyright ⓒ 전자신문 & 전자신문인터넷, 무단전재 및 재배포 금지]\\n\\...  IT/과학   \n",
              "\n",
              "                                             tokenized  \n",
              "0    [파주, 파이낸셜뉴스, 파주시, 관내, 취약, 계층, 가구, 정부, 긴급, 재난, ...  \n",
              "1    [이천, 물류, 창고, 화재, 발화, 지점, 지목, 지하, 산소, 단기, 산소, 공...  \n",
              "2    [의정부, 파이낸셜뉴스, 황범, 의정부시, 부시장, 시공, 중인, 을지대, 학교, ...  \n",
              "3    [갓길, 여성, 성범죄, 시도, 남성, 구속, 서울, 강남, 경찰서, 강간, 상해,...  \n",
              "4    [서울, 연합뉴스, 사회, 코로나바이러스, 감염증, 대응, 체계, 사회, 거리, 두...  \n",
              "..                                                 ...  \n",
              "595  [코리아, 이도, 스마일게이트, 알피, 대표, 지원, 블록버스터, 핵앤, 슬래시, ...  \n",
              "596  [서울, 송화, 공유, 버스, 플랫폼, 셔틀, 신종, 코로나바이러스, 감염증, 코로...  \n",
              "597  [온스, 신종, 코로나바이러스, 감염증, 코로나, 방역, 용품, 미국, 수출, 온스...  \n",
              "598  [코로나, 치료, 백신, 개발, 정부, 원단, 부터, 이틀, 동안, 기업, 대상, ...  \n",
              "599  [전자신문, 전자신문, 인터넷, 이재용, 삼성, 전자, 부회장, 경영, 포기, 노조...  \n",
              "\n",
              "[546 rows x 3 columns]"
            ],
            "text/html": [
              "\n",
              "  <div id=\"df-6cec2091-4523-4d44-9491-6b7993353dc4\">\n",
              "    <div class=\"colab-df-container\">\n",
              "      <div>\n",
              "<style scoped>\n",
              "    .dataframe tbody tr th:only-of-type {\n",
              "        vertical-align: middle;\n",
              "    }\n",
              "\n",
              "    .dataframe tbody tr th {\n",
              "        vertical-align: top;\n",
              "    }\n",
              "\n",
              "    .dataframe thead th {\n",
              "        text-align: right;\n",
              "    }\n",
              "</style>\n",
              "<table border=\"1\" class=\"dataframe\">\n",
              "  <thead>\n",
              "    <tr style=\"text-align: right;\">\n",
              "      <th></th>\n",
              "      <th>news</th>\n",
              "      <th>code</th>\n",
              "      <th>tokenized</th>\n",
              "    </tr>\n",
              "  </thead>\n",
              "  <tbody>\n",
              "    <tr>\n",
              "      <th>0</th>\n",
              "      <td>[파주=파이낸셜뉴스 강근주 기자] 파주시는 4일 관내 취약계층 1만9379가구에 대...</td>\n",
              "      <td>사회</td>\n",
              "      <td>[파주, 파이낸셜뉴스, 파주시, 관내, 취약, 계층, 가구, 정부, 긴급, 재난, ...</td>\n",
              "    </tr>\n",
              "    <tr>\n",
              "      <th>1</th>\n",
              "      <td>이천 물류창고 화재 발화지점으로 지목된 지하 2층에서 산소절단기의 산소 공급 호스가...</td>\n",
              "      <td>사회</td>\n",
              "      <td>[이천, 물류, 창고, 화재, 발화, 지점, 지목, 지하, 산소, 단기, 산소, 공...</td>\n",
              "    </tr>\n",
              "    <tr>\n",
              "      <th>2</th>\n",
              "      <td>[의정부=파이낸셜뉴스 강근주 기자] 황범순 의정부시 부시장은 4일 시공 중인 을지대...</td>\n",
              "      <td>사회</td>\n",
              "      <td>[의정부, 파이낸셜뉴스, 황범, 의정부시, 부시장, 시공, 중인, 을지대, 학교, ...</td>\n",
              "    </tr>\n",
              "    <tr>\n",
              "      <th>3</th>\n",
              "      <td>귀갓길 여성을 쫓아가 성범죄를 시도한 20대 남성이 구속됐습니다.서울 강남경찰서는 ...</td>\n",
              "      <td>사회</td>\n",
              "      <td>[갓길, 여성, 성범죄, 시도, 남성, 구속, 서울, 강남, 경찰서, 강간, 상해,...</td>\n",
              "    </tr>\n",
              "    <tr>\n",
              "      <th>4</th>\n",
              "      <td>(서울=연합뉴스) 대한약사회가 6일부터 코로나바이러스 감염증 대응 체계를 '사회적 ...</td>\n",
              "      <td>사회</td>\n",
              "      <td>[서울, 연합뉴스, 사회, 코로나바이러스, 감염증, 대응, 체계, 사회, 거리, 두...</td>\n",
              "    </tr>\n",
              "    <tr>\n",
              "      <th>...</th>\n",
              "      <td>...</td>\n",
              "      <td>...</td>\n",
              "      <td>...</td>\n",
              "    </tr>\n",
              "    <tr>\n",
              "      <th>595</th>\n",
              "      <td>(지디넷코리아=이도원 기자)스마일게이트알피지(대표 지원길)는 블록버스터 핵앤슬래시 ...</td>\n",
              "      <td>IT/과학</td>\n",
              "      <td>[코리아, 이도, 스마일게이트, 알피, 대표, 지원, 블록버스터, 핵앤, 슬래시, ...</td>\n",
              "    </tr>\n",
              "    <tr>\n",
              "      <th>596</th>\n",
              "      <td>(서울=뉴스1) 송화연 기자 = 공유버스 플랫폼 모두의셔틀은 신종 코로나바이러스 감...</td>\n",
              "      <td>IT/과학</td>\n",
              "      <td>[서울, 송화, 공유, 버스, 플랫폼, 셔틀, 신종, 코로나바이러스, 감염증, 코로...</td>\n",
              "    </tr>\n",
              "    <tr>\n",
              "      <th>597</th>\n",
              "      <td>휴온스의 신종 코로나바이러스 감염증(코로나19) 관련 방역용품이 미국 수출길에 오른...</td>\n",
              "      <td>IT/과학</td>\n",
              "      <td>[온스, 신종, 코로나바이러스, 감염증, 코로나, 방역, 용품, 미국, 수출, 온스...</td>\n",
              "    </tr>\n",
              "    <tr>\n",
              "      <th>598</th>\n",
              "      <td>http://news.kbs.co.kr/news/list.do?icd=19588\\n...</td>\n",
              "      <td>IT/과학</td>\n",
              "      <td>[코로나, 치료, 백신, 개발, 정부, 원단, 부터, 이틀, 동안, 기업, 대상, ...</td>\n",
              "    </tr>\n",
              "    <tr>\n",
              "      <th>599</th>\n",
              "      <td>[Copyright ⓒ 전자신문 &amp; 전자신문인터넷, 무단전재 및 재배포 금지]\\n\\...</td>\n",
              "      <td>IT/과학</td>\n",
              "      <td>[전자신문, 전자신문, 인터넷, 이재용, 삼성, 전자, 부회장, 경영, 포기, 노조...</td>\n",
              "    </tr>\n",
              "  </tbody>\n",
              "</table>\n",
              "<p>546 rows × 3 columns</p>\n",
              "</div>\n",
              "      <button class=\"colab-df-convert\" onclick=\"convertToInteractive('df-6cec2091-4523-4d44-9491-6b7993353dc4')\"\n",
              "              title=\"Convert this dataframe to an interactive table.\"\n",
              "              style=\"display:none;\">\n",
              "        \n",
              "  <svg xmlns=\"http://www.w3.org/2000/svg\" height=\"24px\"viewBox=\"0 0 24 24\"\n",
              "       width=\"24px\">\n",
              "    <path d=\"M0 0h24v24H0V0z\" fill=\"none\"/>\n",
              "    <path d=\"M18.56 5.44l.94 2.06.94-2.06 2.06-.94-2.06-.94-.94-2.06-.94 2.06-2.06.94zm-11 1L8.5 8.5l.94-2.06 2.06-.94-2.06-.94L8.5 2.5l-.94 2.06-2.06.94zm10 10l.94 2.06.94-2.06 2.06-.94-2.06-.94-.94-2.06-.94 2.06-2.06.94z\"/><path d=\"M17.41 7.96l-1.37-1.37c-.4-.4-.92-.59-1.43-.59-.52 0-1.04.2-1.43.59L10.3 9.45l-7.72 7.72c-.78.78-.78 2.05 0 2.83L4 21.41c.39.39.9.59 1.41.59.51 0 1.02-.2 1.41-.59l7.78-7.78 2.81-2.81c.8-.78.8-2.07 0-2.86zM5.41 20L4 18.59l7.72-7.72 1.47 1.35L5.41 20z\"/>\n",
              "  </svg>\n",
              "      </button>\n",
              "      \n",
              "  <style>\n",
              "    .colab-df-container {\n",
              "      display:flex;\n",
              "      flex-wrap:wrap;\n",
              "      gap: 12px;\n",
              "    }\n",
              "\n",
              "    .colab-df-convert {\n",
              "      background-color: #E8F0FE;\n",
              "      border: none;\n",
              "      border-radius: 50%;\n",
              "      cursor: pointer;\n",
              "      display: none;\n",
              "      fill: #1967D2;\n",
              "      height: 32px;\n",
              "      padding: 0 0 0 0;\n",
              "      width: 32px;\n",
              "    }\n",
              "\n",
              "    .colab-df-convert:hover {\n",
              "      background-color: #E2EBFA;\n",
              "      box-shadow: 0px 1px 2px rgba(60, 64, 67, 0.3), 0px 1px 3px 1px rgba(60, 64, 67, 0.15);\n",
              "      fill: #174EA6;\n",
              "    }\n",
              "\n",
              "    [theme=dark] .colab-df-convert {\n",
              "      background-color: #3B4455;\n",
              "      fill: #D2E3FC;\n",
              "    }\n",
              "\n",
              "    [theme=dark] .colab-df-convert:hover {\n",
              "      background-color: #434B5C;\n",
              "      box-shadow: 0px 1px 3px 1px rgba(0, 0, 0, 0.15);\n",
              "      filter: drop-shadow(0px 1px 2px rgba(0, 0, 0, 0.3));\n",
              "      fill: #FFFFFF;\n",
              "    }\n",
              "  </style>\n",
              "\n",
              "      <script>\n",
              "        const buttonEl =\n",
              "          document.querySelector('#df-6cec2091-4523-4d44-9491-6b7993353dc4 button.colab-df-convert');\n",
              "        buttonEl.style.display =\n",
              "          google.colab.kernel.accessAllowed ? 'block' : 'none';\n",
              "\n",
              "        async function convertToInteractive(key) {\n",
              "          const element = document.querySelector('#df-6cec2091-4523-4d44-9491-6b7993353dc4');\n",
              "          const dataTable =\n",
              "            await google.colab.kernel.invokeFunction('convertToInteractive',\n",
              "                                                     [key], {});\n",
              "          if (!dataTable) return;\n",
              "\n",
              "          const docLinkHtml = 'Like what you see? Visit the ' +\n",
              "            '<a target=\"_blank\" href=https://colab.research.google.com/notebooks/data_table.ipynb>data table notebook</a>'\n",
              "            + ' to learn more about interactive tables.';\n",
              "          element.innerHTML = '';\n",
              "          dataTable['output_type'] = 'display_data';\n",
              "          await google.colab.output.renderOutput(dataTable, element);\n",
              "          const docLink = document.createElement('div');\n",
              "          docLink.innerHTML = docLinkHtml;\n",
              "          element.appendChild(docLink);\n",
              "        }\n",
              "      </script>\n",
              "    </div>\n",
              "  </div>\n",
              "  "
            ]
          },
          "metadata": {},
          "execution_count": 23
        }
      ]
    },
    {
      "cell_type": "markdown",
      "source": [
        "빈도수 분석"
      ],
      "metadata": {
        "id": "Ap7cNhoW8Xbh"
      }
    },
    {
      "cell_type": "code",
      "source": [
        "df[df['code']=='사회']"
      ],
      "metadata": {
        "colab": {
          "base_uri": "https://localhost:8080/",
          "height": 423
        },
        "id": "8xByLtj87wyD",
        "outputId": "9293d6c6-aa95-4918-c35e-3ab5bb27817d"
      },
      "execution_count": 24,
      "outputs": [
        {
          "output_type": "execute_result",
          "data": {
            "text/plain": [
              "                                                  news code  \\\n",
              "0    [파주=파이낸셜뉴스 강근주 기자] 파주시는 4일 관내 취약계층 1만9379가구에 대...   사회   \n",
              "1    이천 물류창고 화재 발화지점으로 지목된 지하 2층에서 산소절단기의 산소 공급 호스가...   사회   \n",
              "2    [의정부=파이낸셜뉴스 강근주 기자] 황범순 의정부시 부시장은 4일 시공 중인 을지대...   사회   \n",
              "3    귀갓길 여성을 쫓아가 성범죄를 시도한 20대 남성이 구속됐습니다.서울 강남경찰서는 ...   사회   \n",
              "4    (서울=연합뉴스) 대한약사회가 6일부터 코로나바이러스 감염증 대응 체계를 '사회적 ...   사회   \n",
              "..                                                 ...  ...   \n",
              "195  [KBS 청주]충북 도민에게 지급되는 재난 지원금이 전국 최저 수준인 것으로 나타났...   사회   \n",
              "196  [KBS 청주][앵커]정부의 방역 지침이 '생활 속 거리 두기'로 완화된 첫날, 지...   사회   \n",
              "197  [KBS 청주][앵커]'생활 속' 거리 두기로 코로나 19 방역 수위가 완화되자마자...   사회   \n",
              "198  [앵커]이재용 삼성전자 부회장의 대국민 사과와는 별개로, 검찰 수사는 정점을 향해 ...   사회   \n",
              "199  전국민주노동조합총연맹은 이재용 삼성전자 부회장은 대국민 사과와 관련해,300일 넘게...   사회   \n",
              "\n",
              "                                             tokenized  \n",
              "0    [파주, 파이낸셜뉴스, 파주시, 관내, 취약, 계층, 가구, 정부, 긴급, 재난, ...  \n",
              "1    [이천, 물류, 창고, 화재, 발화, 지점, 지목, 지하, 산소, 단기, 산소, 공...  \n",
              "2    [의정부, 파이낸셜뉴스, 황범, 의정부시, 부시장, 시공, 중인, 을지대, 학교, ...  \n",
              "3    [갓길, 여성, 성범죄, 시도, 남성, 구속, 서울, 강남, 경찰서, 강간, 상해,...  \n",
              "4    [서울, 연합뉴스, 사회, 코로나바이러스, 감염증, 대응, 체계, 사회, 거리, 두...  \n",
              "..                                                 ...  \n",
              "195  [청주, 충북, 도민, 지급, 재난, 원금, 전국, 최저, 수준, 충청북도, 전국,...  \n",
              "196  [청주, 앵커, 정부, 방역, 지침, 생활, 거리, 두기, 완화, 첫날, 지역, 사...  \n",
              "197  [청주, 앵커, 생활, 거리, 두기, 코로나, 방역, 수위, 완화, 충북, 진자, ...  \n",
              "198  [앵커, 이재용, 삼성, 전자, 부회장, 대국민, 사과, 별개, 검찰, 수사, 정점...  \n",
              "199  [국민, 노동조합, 연맹, 이재용, 삼성, 전자, 부회장, 대국민, 사과, 고공, ...  \n",
              "\n",
              "[190 rows x 3 columns]"
            ],
            "text/html": [
              "\n",
              "  <div id=\"df-1d40f139-8d23-4b0f-a4d7-1cc2f9f60935\">\n",
              "    <div class=\"colab-df-container\">\n",
              "      <div>\n",
              "<style scoped>\n",
              "    .dataframe tbody tr th:only-of-type {\n",
              "        vertical-align: middle;\n",
              "    }\n",
              "\n",
              "    .dataframe tbody tr th {\n",
              "        vertical-align: top;\n",
              "    }\n",
              "\n",
              "    .dataframe thead th {\n",
              "        text-align: right;\n",
              "    }\n",
              "</style>\n",
              "<table border=\"1\" class=\"dataframe\">\n",
              "  <thead>\n",
              "    <tr style=\"text-align: right;\">\n",
              "      <th></th>\n",
              "      <th>news</th>\n",
              "      <th>code</th>\n",
              "      <th>tokenized</th>\n",
              "    </tr>\n",
              "  </thead>\n",
              "  <tbody>\n",
              "    <tr>\n",
              "      <th>0</th>\n",
              "      <td>[파주=파이낸셜뉴스 강근주 기자] 파주시는 4일 관내 취약계층 1만9379가구에 대...</td>\n",
              "      <td>사회</td>\n",
              "      <td>[파주, 파이낸셜뉴스, 파주시, 관내, 취약, 계층, 가구, 정부, 긴급, 재난, ...</td>\n",
              "    </tr>\n",
              "    <tr>\n",
              "      <th>1</th>\n",
              "      <td>이천 물류창고 화재 발화지점으로 지목된 지하 2층에서 산소절단기의 산소 공급 호스가...</td>\n",
              "      <td>사회</td>\n",
              "      <td>[이천, 물류, 창고, 화재, 발화, 지점, 지목, 지하, 산소, 단기, 산소, 공...</td>\n",
              "    </tr>\n",
              "    <tr>\n",
              "      <th>2</th>\n",
              "      <td>[의정부=파이낸셜뉴스 강근주 기자] 황범순 의정부시 부시장은 4일 시공 중인 을지대...</td>\n",
              "      <td>사회</td>\n",
              "      <td>[의정부, 파이낸셜뉴스, 황범, 의정부시, 부시장, 시공, 중인, 을지대, 학교, ...</td>\n",
              "    </tr>\n",
              "    <tr>\n",
              "      <th>3</th>\n",
              "      <td>귀갓길 여성을 쫓아가 성범죄를 시도한 20대 남성이 구속됐습니다.서울 강남경찰서는 ...</td>\n",
              "      <td>사회</td>\n",
              "      <td>[갓길, 여성, 성범죄, 시도, 남성, 구속, 서울, 강남, 경찰서, 강간, 상해,...</td>\n",
              "    </tr>\n",
              "    <tr>\n",
              "      <th>4</th>\n",
              "      <td>(서울=연합뉴스) 대한약사회가 6일부터 코로나바이러스 감염증 대응 체계를 '사회적 ...</td>\n",
              "      <td>사회</td>\n",
              "      <td>[서울, 연합뉴스, 사회, 코로나바이러스, 감염증, 대응, 체계, 사회, 거리, 두...</td>\n",
              "    </tr>\n",
              "    <tr>\n",
              "      <th>...</th>\n",
              "      <td>...</td>\n",
              "      <td>...</td>\n",
              "      <td>...</td>\n",
              "    </tr>\n",
              "    <tr>\n",
              "      <th>195</th>\n",
              "      <td>[KBS 청주]충북 도민에게 지급되는 재난 지원금이 전국 최저 수준인 것으로 나타났...</td>\n",
              "      <td>사회</td>\n",
              "      <td>[청주, 충북, 도민, 지급, 재난, 원금, 전국, 최저, 수준, 충청북도, 전국,...</td>\n",
              "    </tr>\n",
              "    <tr>\n",
              "      <th>196</th>\n",
              "      <td>[KBS 청주][앵커]정부의 방역 지침이 '생활 속 거리 두기'로 완화된 첫날, 지...</td>\n",
              "      <td>사회</td>\n",
              "      <td>[청주, 앵커, 정부, 방역, 지침, 생활, 거리, 두기, 완화, 첫날, 지역, 사...</td>\n",
              "    </tr>\n",
              "    <tr>\n",
              "      <th>197</th>\n",
              "      <td>[KBS 청주][앵커]'생활 속' 거리 두기로 코로나 19 방역 수위가 완화되자마자...</td>\n",
              "      <td>사회</td>\n",
              "      <td>[청주, 앵커, 생활, 거리, 두기, 코로나, 방역, 수위, 완화, 충북, 진자, ...</td>\n",
              "    </tr>\n",
              "    <tr>\n",
              "      <th>198</th>\n",
              "      <td>[앵커]이재용 삼성전자 부회장의 대국민 사과와는 별개로, 검찰 수사는 정점을 향해 ...</td>\n",
              "      <td>사회</td>\n",
              "      <td>[앵커, 이재용, 삼성, 전자, 부회장, 대국민, 사과, 별개, 검찰, 수사, 정점...</td>\n",
              "    </tr>\n",
              "    <tr>\n",
              "      <th>199</th>\n",
              "      <td>전국민주노동조합총연맹은 이재용 삼성전자 부회장은 대국민 사과와 관련해,300일 넘게...</td>\n",
              "      <td>사회</td>\n",
              "      <td>[국민, 노동조합, 연맹, 이재용, 삼성, 전자, 부회장, 대국민, 사과, 고공, ...</td>\n",
              "    </tr>\n",
              "  </tbody>\n",
              "</table>\n",
              "<p>190 rows × 3 columns</p>\n",
              "</div>\n",
              "      <button class=\"colab-df-convert\" onclick=\"convertToInteractive('df-1d40f139-8d23-4b0f-a4d7-1cc2f9f60935')\"\n",
              "              title=\"Convert this dataframe to an interactive table.\"\n",
              "              style=\"display:none;\">\n",
              "        \n",
              "  <svg xmlns=\"http://www.w3.org/2000/svg\" height=\"24px\"viewBox=\"0 0 24 24\"\n",
              "       width=\"24px\">\n",
              "    <path d=\"M0 0h24v24H0V0z\" fill=\"none\"/>\n",
              "    <path d=\"M18.56 5.44l.94 2.06.94-2.06 2.06-.94-2.06-.94-.94-2.06-.94 2.06-2.06.94zm-11 1L8.5 8.5l.94-2.06 2.06-.94-2.06-.94L8.5 2.5l-.94 2.06-2.06.94zm10 10l.94 2.06.94-2.06 2.06-.94-2.06-.94-.94-2.06-.94 2.06-2.06.94z\"/><path d=\"M17.41 7.96l-1.37-1.37c-.4-.4-.92-.59-1.43-.59-.52 0-1.04.2-1.43.59L10.3 9.45l-7.72 7.72c-.78.78-.78 2.05 0 2.83L4 21.41c.39.39.9.59 1.41.59.51 0 1.02-.2 1.41-.59l7.78-7.78 2.81-2.81c.8-.78.8-2.07 0-2.86zM5.41 20L4 18.59l7.72-7.72 1.47 1.35L5.41 20z\"/>\n",
              "  </svg>\n",
              "      </button>\n",
              "      \n",
              "  <style>\n",
              "    .colab-df-container {\n",
              "      display:flex;\n",
              "      flex-wrap:wrap;\n",
              "      gap: 12px;\n",
              "    }\n",
              "\n",
              "    .colab-df-convert {\n",
              "      background-color: #E8F0FE;\n",
              "      border: none;\n",
              "      border-radius: 50%;\n",
              "      cursor: pointer;\n",
              "      display: none;\n",
              "      fill: #1967D2;\n",
              "      height: 32px;\n",
              "      padding: 0 0 0 0;\n",
              "      width: 32px;\n",
              "    }\n",
              "\n",
              "    .colab-df-convert:hover {\n",
              "      background-color: #E2EBFA;\n",
              "      box-shadow: 0px 1px 2px rgba(60, 64, 67, 0.3), 0px 1px 3px 1px rgba(60, 64, 67, 0.15);\n",
              "      fill: #174EA6;\n",
              "    }\n",
              "\n",
              "    [theme=dark] .colab-df-convert {\n",
              "      background-color: #3B4455;\n",
              "      fill: #D2E3FC;\n",
              "    }\n",
              "\n",
              "    [theme=dark] .colab-df-convert:hover {\n",
              "      background-color: #434B5C;\n",
              "      box-shadow: 0px 1px 3px 1px rgba(0, 0, 0, 0.15);\n",
              "      filter: drop-shadow(0px 1px 2px rgba(0, 0, 0, 0.3));\n",
              "      fill: #FFFFFF;\n",
              "    }\n",
              "  </style>\n",
              "\n",
              "      <script>\n",
              "        const buttonEl =\n",
              "          document.querySelector('#df-1d40f139-8d23-4b0f-a4d7-1cc2f9f60935 button.colab-df-convert');\n",
              "        buttonEl.style.display =\n",
              "          google.colab.kernel.accessAllowed ? 'block' : 'none';\n",
              "\n",
              "        async function convertToInteractive(key) {\n",
              "          const element = document.querySelector('#df-1d40f139-8d23-4b0f-a4d7-1cc2f9f60935');\n",
              "          const dataTable =\n",
              "            await google.colab.kernel.invokeFunction('convertToInteractive',\n",
              "                                                     [key], {});\n",
              "          if (!dataTable) return;\n",
              "\n",
              "          const docLinkHtml = 'Like what you see? Visit the ' +\n",
              "            '<a target=\"_blank\" href=https://colab.research.google.com/notebooks/data_table.ipynb>data table notebook</a>'\n",
              "            + ' to learn more about interactive tables.';\n",
              "          element.innerHTML = '';\n",
              "          dataTable['output_type'] = 'display_data';\n",
              "          await google.colab.output.renderOutput(dataTable, element);\n",
              "          const docLink = document.createElement('div');\n",
              "          docLink.innerHTML = docLinkHtml;\n",
              "          element.appendChild(docLink);\n",
              "        }\n",
              "      </script>\n",
              "    </div>\n",
              "  </div>\n",
              "  "
            ]
          },
          "metadata": {},
          "execution_count": 24
        }
      ]
    },
    {
      "cell_type": "code",
      "source": [
        "df[df['code']=='사회']['tokenized'].values\n",
        " #하나의 리스트로 합쳐져서 출력됨\n",
        " #list여러개가 합쳐진 array 형태로 출력됨\n",
        " #리스트 안에 여러개 리스트를 하나의 리스트로 변환 np.hstack함수이용"
      ],
      "metadata": {
        "id": "3xGGkHpd8eNQ"
      },
      "execution_count": null,
      "outputs": []
    },
    {
      "cell_type": "code",
      "source": [
        "import numpy as np"
      ],
      "metadata": {
        "id": "HlnEclBh8hks"
      },
      "execution_count": 29,
      "outputs": []
    },
    {
      "cell_type": "code",
      "source": [
        "social_news = np.hstack(df[df['code']=='사회']['tokenized'].values)\n",
        "life_news = np.hstack(df[df['code']=='생활/문화']['tokenized'].values)\n",
        "IT_news = np.hstack(df[df['code']=='IT/과학']['tokenized'].values)"
      ],
      "metadata": {
        "id": "z5nJ6Wvp9tdv"
      },
      "execution_count": 32,
      "outputs": []
    },
    {
      "cell_type": "code",
      "source": [
        "print(len(social_news))\n",
        "print(len(life_news))\n",
        "print(len(IT_news))"
      ],
      "metadata": {
        "colab": {
          "base_uri": "https://localhost:8080/"
        },
        "id": "CKOihqzD93_2",
        "outputId": "1bf05840-7df6-4eb8-eefc-b5c7349a40f9"
      },
      "execution_count": 34,
      "outputs": [
        {
          "output_type": "stream",
          "name": "stdout",
          "text": [
            "21196\n",
            "27159\n",
            "32642\n"
          ]
        }
      ]
    },
    {
      "cell_type": "code",
      "source": [
        "from collections import Counter"
      ],
      "metadata": {
        "id": "PfqhF6FW-h6J"
      },
      "execution_count": 36,
      "outputs": []
    },
    {
      "cell_type": "code",
      "source": [
        "social_news_count = Counter(social_news)\n",
        "print(social_news_count.most_common(10))"
      ],
      "metadata": {
        "colab": {
          "base_uri": "https://localhost:8080/"
        },
        "id": "9J1Z7NQs-pNz",
        "outputId": "3f4887a9-235d-4cfe-f59f-ffe6f8988db0"
      },
      "execution_count": 38,
      "outputs": [
        {
          "output_type": "stream",
          "name": "stdout",
          "text": [
            "[('코로나', 174), ('혐의', 142), ('학교', 126), ('경찰', 122), ('거리', 115), ('방역', 112), ('학생', 112), ('두기', 95), ('생활', 95), ('서울', 93)]\n"
          ]
        }
      ]
    },
    {
      "cell_type": "code",
      "source": [
        "life_news_count = Counter(life_news)\n",
        "print(life_news_count.most_common(10))"
      ],
      "metadata": {
        "colab": {
          "base_uri": "https://localhost:8080/"
        },
        "id": "a0F_VNlI_YC6",
        "outputId": "79f0fd12-f40d-4aa7-ccdb-c23642e882ac"
      },
      "execution_count": 39,
      "outputs": [
        {
          "output_type": "stream",
          "name": "stdout",
          "text": [
            "[('코로나', 243), ('한국', 193), ('판매', 153), ('관광', 139), ('기온', 124), ('서울', 116), ('국내', 90), ('문화', 86), ('내일', 83), ('지역', 80)]\n"
          ]
        }
      ]
    },
    {
      "cell_type": "code",
      "source": [
        "IT_news_count = Counter(IT_news)\n",
        "print(IT_news_count.most_common(10))"
      ],
      "metadata": {
        "colab": {
          "base_uri": "https://localhost:8080/"
        },
        "id": "2eJYjhN5_e8i",
        "outputId": "f88f370b-74ab-4eff-d5ee-e48316b6eae3"
      },
      "execution_count": 40,
      "outputs": [
        {
          "output_type": "stream",
          "name": "stdout",
          "text": [
            "[('기업', 224), ('서비스', 196), ('방사', 188), ('사업', 186), ('코로나', 183), ('개발', 171), ('기술', 168), ('국내', 153), ('시장', 138), ('지역', 133)]\n"
          ]
        }
      ]
    }
  ]
}