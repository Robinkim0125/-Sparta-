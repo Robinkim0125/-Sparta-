{
  "nbformat": 4,
  "nbformat_minor": 0,
  "metadata": {
    "colab": {
      "name": "MovieGenreClassify.ipynb",
      "provenance": [],
      "authorship_tag": "ABX9TyOUv7kR5/1SZyjBdSRDBy4N",
      "include_colab_link": true
    },
    "kernelspec": {
      "name": "python3",
      "display_name": "Python 3"
    },
    "language_info": {
      "name": "python"
    }
  },
  "cells": [
    {
      "cell_type": "markdown",
      "metadata": {
        "id": "view-in-github",
        "colab_type": "text"
      },
      "source": [
        "<a href=\"https://colab.research.google.com/github/Robinkim0125/DataAnalysis/blob/main/MovieGenreClassify.ipynb\" target=\"_parent\"><img src=\"https://colab.research.google.com/assets/colab-badge.svg\" alt=\"Open In Colab\"/></a>"
      ]
    },
    {
      "cell_type": "markdown",
      "source": [
        "캐글 IMDb 장르 분류 데이터\n",
        "\n",
        "출처 : [https://www.kaggle.com/hijest/genre-classification-dataset-imdb](https://www.kaggle.com/hijest/genre-classification-dataset-imdb) (원출처: IMDB.com)\n",
        "\n",
        "[https://s3.ap-northeast-2.amazonaws.com/materials.spartacodingclub.kr/data_new/week02/test_data_solution.txt](https://s3.ap-northeast-2.amazonaws.com/materials.spartacodingclub.kr/data_new/week02/test_data_solution.txt)"
      ],
      "metadata": {
        "id": "dzFqEra6Qrqv"
      }
    },
    {
      "cell_type": "code",
      "execution_count": 1,
      "metadata": {
        "colab": {
          "base_uri": "https://localhost:8080/"
        },
        "id": "2ZRkpMA3_IHC",
        "outputId": "86beb7da-4f5b-4595-984e-82313f1058c4"
      },
      "outputs": [
        {
          "output_type": "stream",
          "name": "stderr",
          "text": [
            "/usr/local/lib/python3.7/dist-packages/pandas/util/_decorators.py:311: ParserWarning: Falling back to the 'python' engine because the 'c' engine does not support regex separators (separators > 1 char and different from '\\s+' are interpreted as regex); you can avoid this warning by specifying engine='python'.\n",
            "  return func(*args, **kwargs)\n"
          ]
        }
      ],
      "source": [
        "import pandas as pd\n",
        "\n",
        "train = pd.read_table('train_data.txt', sep=':::', names=['Index','Genre','Content'])\n",
        "test = pd.read_table('test_data_solution.txt', sep=':::', names=['Index','Genre','Content'])"
      ]
    },
    {
      "cell_type": "code",
      "source": [
        "train.head(3)"
      ],
      "metadata": {
        "colab": {
          "base_uri": "https://localhost:8080/",
          "height": 187
        },
        "id": "khgB2zqdRTFO",
        "outputId": "625d18d0-69e8-4bf8-baba-8f91d9b673a9"
      },
      "execution_count": 2,
      "outputs": [
        {
          "output_type": "execute_result",
          "data": {
            "text/plain": [
              "                                Index       Genre  \\\n",
              "1       Oscar et la dame rose (2009)       drama    \n",
              "2                       Cupid (1997)    thriller    \n",
              "3   Young, Wild and Wonderful (1980)       adult    \n",
              "\n",
              "                                             Content  \n",
              "1   Listening in to a conversation between his do...  \n",
              "2   A brother and sister with a past incestuous r...  \n",
              "3   As the bus empties the students for their fie...  "
            ],
            "text/html": [
              "\n",
              "  <div id=\"df-39a61fb4-8e9c-490e-b06b-e15a4c41eee9\">\n",
              "    <div class=\"colab-df-container\">\n",
              "      <div>\n",
              "<style scoped>\n",
              "    .dataframe tbody tr th:only-of-type {\n",
              "        vertical-align: middle;\n",
              "    }\n",
              "\n",
              "    .dataframe tbody tr th {\n",
              "        vertical-align: top;\n",
              "    }\n",
              "\n",
              "    .dataframe thead th {\n",
              "        text-align: right;\n",
              "    }\n",
              "</style>\n",
              "<table border=\"1\" class=\"dataframe\">\n",
              "  <thead>\n",
              "    <tr style=\"text-align: right;\">\n",
              "      <th></th>\n",
              "      <th>Index</th>\n",
              "      <th>Genre</th>\n",
              "      <th>Content</th>\n",
              "    </tr>\n",
              "  </thead>\n",
              "  <tbody>\n",
              "    <tr>\n",
              "      <th>1</th>\n",
              "      <td>Oscar et la dame rose (2009)</td>\n",
              "      <td>drama</td>\n",
              "      <td>Listening in to a conversation between his do...</td>\n",
              "    </tr>\n",
              "    <tr>\n",
              "      <th>2</th>\n",
              "      <td>Cupid (1997)</td>\n",
              "      <td>thriller</td>\n",
              "      <td>A brother and sister with a past incestuous r...</td>\n",
              "    </tr>\n",
              "    <tr>\n",
              "      <th>3</th>\n",
              "      <td>Young, Wild and Wonderful (1980)</td>\n",
              "      <td>adult</td>\n",
              "      <td>As the bus empties the students for their fie...</td>\n",
              "    </tr>\n",
              "  </tbody>\n",
              "</table>\n",
              "</div>\n",
              "      <button class=\"colab-df-convert\" onclick=\"convertToInteractive('df-39a61fb4-8e9c-490e-b06b-e15a4c41eee9')\"\n",
              "              title=\"Convert this dataframe to an interactive table.\"\n",
              "              style=\"display:none;\">\n",
              "        \n",
              "  <svg xmlns=\"http://www.w3.org/2000/svg\" height=\"24px\"viewBox=\"0 0 24 24\"\n",
              "       width=\"24px\">\n",
              "    <path d=\"M0 0h24v24H0V0z\" fill=\"none\"/>\n",
              "    <path d=\"M18.56 5.44l.94 2.06.94-2.06 2.06-.94-2.06-.94-.94-2.06-.94 2.06-2.06.94zm-11 1L8.5 8.5l.94-2.06 2.06-.94-2.06-.94L8.5 2.5l-.94 2.06-2.06.94zm10 10l.94 2.06.94-2.06 2.06-.94-2.06-.94-.94-2.06-.94 2.06-2.06.94z\"/><path d=\"M17.41 7.96l-1.37-1.37c-.4-.4-.92-.59-1.43-.59-.52 0-1.04.2-1.43.59L10.3 9.45l-7.72 7.72c-.78.78-.78 2.05 0 2.83L4 21.41c.39.39.9.59 1.41.59.51 0 1.02-.2 1.41-.59l7.78-7.78 2.81-2.81c.8-.78.8-2.07 0-2.86zM5.41 20L4 18.59l7.72-7.72 1.47 1.35L5.41 20z\"/>\n",
              "  </svg>\n",
              "      </button>\n",
              "      \n",
              "  <style>\n",
              "    .colab-df-container {\n",
              "      display:flex;\n",
              "      flex-wrap:wrap;\n",
              "      gap: 12px;\n",
              "    }\n",
              "\n",
              "    .colab-df-convert {\n",
              "      background-color: #E8F0FE;\n",
              "      border: none;\n",
              "      border-radius: 50%;\n",
              "      cursor: pointer;\n",
              "      display: none;\n",
              "      fill: #1967D2;\n",
              "      height: 32px;\n",
              "      padding: 0 0 0 0;\n",
              "      width: 32px;\n",
              "    }\n",
              "\n",
              "    .colab-df-convert:hover {\n",
              "      background-color: #E2EBFA;\n",
              "      box-shadow: 0px 1px 2px rgba(60, 64, 67, 0.3), 0px 1px 3px 1px rgba(60, 64, 67, 0.15);\n",
              "      fill: #174EA6;\n",
              "    }\n",
              "\n",
              "    [theme=dark] .colab-df-convert {\n",
              "      background-color: #3B4455;\n",
              "      fill: #D2E3FC;\n",
              "    }\n",
              "\n",
              "    [theme=dark] .colab-df-convert:hover {\n",
              "      background-color: #434B5C;\n",
              "      box-shadow: 0px 1px 3px 1px rgba(0, 0, 0, 0.15);\n",
              "      filter: drop-shadow(0px 1px 2px rgba(0, 0, 0, 0.3));\n",
              "      fill: #FFFFFF;\n",
              "    }\n",
              "  </style>\n",
              "\n",
              "      <script>\n",
              "        const buttonEl =\n",
              "          document.querySelector('#df-39a61fb4-8e9c-490e-b06b-e15a4c41eee9 button.colab-df-convert');\n",
              "        buttonEl.style.display =\n",
              "          google.colab.kernel.accessAllowed ? 'block' : 'none';\n",
              "\n",
              "        async function convertToInteractive(key) {\n",
              "          const element = document.querySelector('#df-39a61fb4-8e9c-490e-b06b-e15a4c41eee9');\n",
              "          const dataTable =\n",
              "            await google.colab.kernel.invokeFunction('convertToInteractive',\n",
              "                                                     [key], {});\n",
              "          if (!dataTable) return;\n",
              "\n",
              "          const docLinkHtml = 'Like what you see? Visit the ' +\n",
              "            '<a target=\"_blank\" href=https://colab.research.google.com/notebooks/data_table.ipynb>data table notebook</a>'\n",
              "            + ' to learn more about interactive tables.';\n",
              "          element.innerHTML = '';\n",
              "          dataTable['output_type'] = 'display_data';\n",
              "          await google.colab.output.renderOutput(dataTable, element);\n",
              "          const docLink = document.createElement('div');\n",
              "          docLink.innerHTML = docLinkHtml;\n",
              "          element.appendChild(docLink);\n",
              "        }\n",
              "      </script>\n",
              "    </div>\n",
              "  </div>\n",
              "  "
            ]
          },
          "metadata": {},
          "execution_count": 2
        }
      ]
    },
    {
      "cell_type": "code",
      "source": [
        "train.info()\n",
        "test.info()"
      ],
      "metadata": {
        "colab": {
          "base_uri": "https://localhost:8080/"
        },
        "id": "kwcYwa4yRcCT",
        "outputId": "5e57b66c-c877-4ff4-f415-fecdf20ad752"
      },
      "execution_count": 3,
      "outputs": [
        {
          "output_type": "stream",
          "name": "stdout",
          "text": [
            "<class 'pandas.core.frame.DataFrame'>\n",
            "Int64Index: 54214 entries, 1 to 54214\n",
            "Data columns (total 3 columns):\n",
            " #   Column   Non-Null Count  Dtype \n",
            "---  ------   --------------  ----- \n",
            " 0   Index    54214 non-null  object\n",
            " 1   Genre    54214 non-null  object\n",
            " 2   Content  54214 non-null  object\n",
            "dtypes: object(3)\n",
            "memory usage: 1.7+ MB\n",
            "<class 'pandas.core.frame.DataFrame'>\n",
            "Int64Index: 54200 entries, 1 to 54200\n",
            "Data columns (total 3 columns):\n",
            " #   Column   Non-Null Count  Dtype \n",
            "---  ------   --------------  ----- \n",
            " 0   Index    54200 non-null  object\n",
            " 1   Genre    54200 non-null  object\n",
            " 2   Content  54200 non-null  object\n",
            "dtypes: object(3)\n",
            "memory usage: 1.7+ MB\n"
          ]
        }
      ]
    },
    {
      "cell_type": "code",
      "source": [
        "train['Genre'].unique()"
      ],
      "metadata": {
        "colab": {
          "base_uri": "https://localhost:8080/"
        },
        "id": "aiOeXGWQRe08",
        "outputId": "abe296d2-ba66-48ef-fef1-afd5e7c0e558"
      },
      "execution_count": 4,
      "outputs": [
        {
          "output_type": "execute_result",
          "data": {
            "text/plain": [
              "array([' drama ', ' thriller ', ' adult ', ' documentary ', ' comedy ',\n",
              "       ' crime ', ' reality-tv ', ' horror ', ' sport ', ' animation ',\n",
              "       ' action ', ' fantasy ', ' short ', ' sci-fi ', ' music ',\n",
              "       ' adventure ', ' talk-show ', ' western ', ' family ', ' mystery ',\n",
              "       ' history ', ' news ', ' biography ', ' romance ', ' game-show ',\n",
              "       ' musical ', ' war '], dtype=object)"
            ]
          },
          "metadata": {},
          "execution_count": 4
        }
      ]
    },
    {
      "cell_type": "code",
      "source": [
        "y_train = train['Genre']\n",
        "x_train = train['Content']\n",
        "y_test = test['Genre']\n",
        "x_test = test['Content']"
      ],
      "metadata": {
        "id": "lJ0GI3lmn2dY"
      },
      "execution_count": 5,
      "outputs": []
    },
    {
      "cell_type": "code",
      "source": [
        "y_train.head(3)"
      ],
      "metadata": {
        "colab": {
          "base_uri": "https://localhost:8080/"
        },
        "id": "_Jpmxk-ioe9E",
        "outputId": "6f411cdd-1fa4-4934-c65c-7704beebfeae"
      },
      "execution_count": 6,
      "outputs": [
        {
          "output_type": "execute_result",
          "data": {
            "text/plain": [
              "1        drama \n",
              "2     thriller \n",
              "3        adult \n",
              "Name: Genre, dtype: object"
            ]
          },
          "metadata": {},
          "execution_count": 6
        }
      ]
    },
    {
      "cell_type": "code",
      "source": [
        "mapping = {' drama ':1, ' thriller ':2, ' adult ':3, ' documentary ':4, ' comedy ':5,\n",
        "       ' crime ':6, ' reality-tv ':7, ' horror ':8, ' sport ':9, ' animation ':10,\n",
        "       ' action ':11, ' fantasy ':12, ' short ':13, ' sci-fi ':14, ' music ':15,\n",
        "       ' adventure ':16, ' talk-show ':17, ' western ':18, ' family ':19, ' mystery ':20,\n",
        "       ' history ':21, ' news ':22, ' biography ':23, ' romance ':24, ' game-show ':25,\n",
        "       ' musical ':26, ' war ':27}\n",
        "y_train = y_train.replace(mapping)\n",
        "y_test = y_test.replace(mapping)"
      ],
      "metadata": {
        "id": "vqt8M1-Bo88F"
      },
      "execution_count": 7,
      "outputs": []
    },
    {
      "cell_type": "code",
      "source": [
        "y_train.head(3)"
      ],
      "metadata": {
        "colab": {
          "base_uri": "https://localhost:8080/"
        },
        "id": "8rLU7tNhpKxP",
        "outputId": "1008efa0-52d5-469f-8d59-b7678beb42de"
      },
      "execution_count": 8,
      "outputs": [
        {
          "output_type": "execute_result",
          "data": {
            "text/plain": [
              "1    1\n",
              "2    2\n",
              "3    3\n",
              "Name: Genre, dtype: int64"
            ]
          },
          "metadata": {},
          "execution_count": 8
        }
      ]
    },
    {
      "cell_type": "markdown",
      "source": [
        "문장의 단어들의 벡터화\n",
        "\n",
        "DTM / TF-IDF"
      ],
      "metadata": {
        "id": "KTgJw-waH8m5"
      }
    },
    {
      "cell_type": "code",
      "source": [
        "from sklearn.feature_extraction.text import CountVectorizer\n",
        "from sklearn.feature_extraction.text import TfidfTransformer\n",
        "\n",
        "corpus = [\n",
        "    'you know I want your love',\n",
        "    'I like you',\n",
        "    'what should I do ',    \n",
        "]\n",
        "\n",
        "vector = CountVectorizer() # DTM 벡터화를 위한 객체 생성\n",
        "x_train_dtm = vector.fit_transform(corpus) # 해당 단어들을 벡터화 진행\n",
        "print(x_train_dtm.toarray()) # 벡터가 어떻게 생겼는지 확인\n",
        "\n",
        "tfidf_transformer = TfidfTransformer() # tfidf 벡터화를 위한 객체 생성\n",
        "tfidfv = tfidf_transformer.fit_transform(x_train_dtm) # x_train_dtm에 대해서 벡터화 진행\n",
        "print(tfidfv.toarray()) # 벡터가 어떻게 생겼는지 확인\n",
        "\n",
        "# fit_transform --> train 데이터로 모델 학습할때 사용\n",
        "# transform --> test 데이터로 검증할때 사용"
      ],
      "metadata": {
        "colab": {
          "base_uri": "https://localhost:8080/"
        },
        "id": "XuAzr9PMpVf1",
        "outputId": "1f470c3a-18e6-4340-b45e-bdd1ed12d69d"
      },
      "execution_count": 9,
      "outputs": [
        {
          "output_type": "stream",
          "name": "stdout",
          "text": [
            "[[0 1 0 1 0 1 0 1 1]\n",
            " [0 0 1 0 0 0 0 1 0]\n",
            " [1 0 0 0 1 0 1 0 0]]\n",
            "[[0.         0.46735098 0.         0.46735098 0.         0.46735098\n",
            "  0.         0.35543247 0.46735098]\n",
            " [0.         0.         0.79596054 0.         0.         0.\n",
            "  0.         0.60534851 0.        ]\n",
            " [0.57735027 0.         0.         0.         0.57735027 0.\n",
            "  0.57735027 0.         0.        ]]\n"
          ]
        }
      ]
    },
    {
      "cell_type": "code",
      "source": [
        "from sklearn.naive_bayes import MultinomialNB #다항분포 나이브 베이즈 모델\n",
        "from sklearn.linear_model import LogisticRegression\n",
        "from sklearn.svm import LinearSVC\n",
        "from sklearn.metrics import accuracy_score #정확도 계산\n",
        "from sklearn.feature_extraction.text import CountVectorizer\n",
        "from sklearn.feature_extraction.text import TfidfTransformer"
      ],
      "metadata": {
        "id": "DMQO5qhCm-Jk"
      },
      "execution_count": 10,
      "outputs": []
    },
    {
      "cell_type": "code",
      "source": [
        "dtmvector=CountVectorizer()\n",
        "x_train_dtm = dtmvector.fit_transform(x_train)"
      ],
      "metadata": {
        "id": "KQO0NLheCQwX"
      },
      "execution_count": 11,
      "outputs": []
    },
    {
      "cell_type": "code",
      "source": [
        "tfidf_transformer = TfidfTransformer()\n",
        "tfidfv=tfidf_transformer.fit_transform(x_train_dtm)"
      ],
      "metadata": {
        "id": "vqKNMl1XCkOR"
      },
      "execution_count": 12,
      "outputs": []
    },
    {
      "cell_type": "code",
      "source": [
        "x_test_dtm = dtmvector.transform(x_test)\n",
        "tfidfv_test = tfidf_transformer.transform(x_test_dtm)"
      ],
      "metadata": {
        "id": "oajjNQXqEola"
      },
      "execution_count": 13,
      "outputs": []
    },
    {
      "cell_type": "markdown",
      "source": [
        "모델 1. 나이브 베이즈 모델"
      ],
      "metadata": {
        "id": "vWSy9TUXEER9"
      }
    },
    {
      "cell_type": "code",
      "source": [
        "mod = MultinomialNB()\n",
        "mod.fit(tfidfv, y_train)"
      ],
      "metadata": {
        "colab": {
          "base_uri": "https://localhost:8080/"
        },
        "id": "UFzX21D0E3iT",
        "outputId": "f1a7ae70-e19d-4938-f76b-9e5c64d403e2"
      },
      "execution_count": 14,
      "outputs": [
        {
          "output_type": "execute_result",
          "data": {
            "text/plain": [
              "MultinomialNB()"
            ]
          },
          "metadata": {},
          "execution_count": 14
        }
      ]
    },
    {
      "cell_type": "code",
      "source": [
        "predicted = mod.predict(tfidfv_test)\n",
        "print( \"정확도 : \" , accuracy_score(y_test,predicted))"
      ],
      "metadata": {
        "colab": {
          "base_uri": "https://localhost:8080/"
        },
        "id": "hhVanG1UFgus",
        "outputId": "ab72a23c-06a9-4472-843a-5508032fb22e"
      },
      "execution_count": 15,
      "outputs": [
        {
          "output_type": "stream",
          "name": "stdout",
          "text": [
            "정확도 :  0.4426752767527675\n"
          ]
        }
      ]
    },
    {
      "cell_type": "markdown",
      "source": [
        "모델 2. 로지스틱 리그레션"
      ],
      "metadata": {
        "id": "Zw_2zbbREIYL"
      }
    },
    {
      "cell_type": "code",
      "source": [
        "lr = LogisticRegression(C=10000, penalty='l2')\n",
        "lr.fit(tfidfv, y_train)"
      ],
      "metadata": {
        "colab": {
          "base_uri": "https://localhost:8080/"
        },
        "id": "pl-wrPp5FzGS",
        "outputId": "d0cfa571-39d6-4490-d2aa-954c0afe2df4"
      },
      "execution_count": 18,
      "outputs": [
        {
          "output_type": "stream",
          "name": "stderr",
          "text": [
            "/usr/local/lib/python3.7/dist-packages/sklearn/linear_model/_logistic.py:818: ConvergenceWarning: lbfgs failed to converge (status=1):\n",
            "STOP: TOTAL NO. of ITERATIONS REACHED LIMIT.\n",
            "\n",
            "Increase the number of iterations (max_iter) or scale the data as shown in:\n",
            "    https://scikit-learn.org/stable/modules/preprocessing.html\n",
            "Please also refer to the documentation for alternative solver options:\n",
            "    https://scikit-learn.org/stable/modules/linear_model.html#logistic-regression\n",
            "  extra_warning_msg=_LOGISTIC_SOLVER_CONVERGENCE_MSG,\n"
          ]
        },
        {
          "output_type": "execute_result",
          "data": {
            "text/plain": [
              "LogisticRegression(C=10000)"
            ]
          },
          "metadata": {},
          "execution_count": 18
        }
      ]
    },
    {
      "cell_type": "code",
      "source": [
        "predicted = lr.predict(tfidfv_test)\n",
        "print( \"정확도 : \" , accuracy_score(y_test,predicted))"
      ],
      "metadata": {
        "colab": {
          "base_uri": "https://localhost:8080/"
        },
        "id": "WEGfj1l_D1WN",
        "outputId": "994e0935-d16a-426a-ef59-325dc3045fcd"
      },
      "execution_count": 19,
      "outputs": [
        {
          "output_type": "stream",
          "name": "stdout",
          "text": [
            "정확도 :  0.5868265682656827\n"
          ]
        }
      ]
    },
    {
      "cell_type": "markdown",
      "source": [
        "모델 3. SVM (Support Vector Mechine)"
      ],
      "metadata": {
        "id": "imGt5WdgEMO9"
      }
    },
    {
      "cell_type": "code",
      "source": [
        "lsvc = LinearSVC(C=1000, penalty='l2', max_iter=500)\n",
        "lsvc.fit(tfidfv, y_train)"
      ],
      "metadata": {
        "colab": {
          "base_uri": "https://localhost:8080/"
        },
        "id": "Tzbqwe78ERRD",
        "outputId": "75f6f8b3-ffba-4c85-e553-ee67f4b5058c"
      },
      "execution_count": 21,
      "outputs": [
        {
          "output_type": "stream",
          "name": "stderr",
          "text": [
            "/usr/local/lib/python3.7/dist-packages/sklearn/svm/_base.py:1208: ConvergenceWarning: Liblinear failed to converge, increase the number of iterations.\n",
            "  ConvergenceWarning,\n"
          ]
        },
        {
          "output_type": "execute_result",
          "data": {
            "text/plain": [
              "LinearSVC(C=1000, max_iter=500)"
            ]
          },
          "metadata": {},
          "execution_count": 21
        }
      ]
    },
    {
      "cell_type": "code",
      "source": [
        "predicted = lsvc.predict(tfidfv_test)\n",
        "print( \"정확도 : \" , accuracy_score(y_test,predicted))"
      ],
      "metadata": {
        "colab": {
          "base_uri": "https://localhost:8080/"
        },
        "id": "sva0NfkVEx4_",
        "outputId": "c1566eea-7f56-4a20-99b5-eb7b3c91f33b"
      },
      "execution_count": 22,
      "outputs": [
        {
          "output_type": "stream",
          "name": "stdout",
          "text": [
            "정확도 :  0.5209225092250922\n"
          ]
        }
      ]
    },
    {
      "cell_type": "code",
      "source": [
        "import matplotlib.pyplot as plt\n",
        "\n",
        "plt.subplot(211)\n",
        "plt.rcParams[\"figure.figsize\"] = (10,10)\n",
        "plt.bar(mod.classes_, mod.predict_proba(tfidfv_test[3])[0])\n",
        "plt.xlim(-1, 21)\n",
        "plt.xticks(mod.classes_)\n",
        "plt.xlabel(\"Genre\")\n",
        "plt.ylabel(\"Probability\")\n",
        "plt.show()"
      ],
      "metadata": {
        "colab": {
          "base_uri": "https://localhost:8080/",
          "height": 161
        },
        "id": "FTJHdC6GFNn2",
        "outputId": "c5592f9c-b123-4070-9289-5243f8ba3dcb"
      },
      "execution_count": 23,
      "outputs": [
        {
          "output_type": "display_data",
          "data": {
            "text/plain": [
              "<Figure size 432x288 with 1 Axes>"
            ],
            "image/png": "[encoded data removed]"
          },
          "metadata": {
            "needs_background": "light"
          }
        }
      ]
    },
    {
      "cell_type": "code",
      "source": [
        "x_test_dtm = dtmvector.transform(['gost exorcism']) #테스트 데이터를 DTM으로 변환\n",
        "tfidfv_test = tfidf_transformer.transform(x_test_dtm) #DTM을 TF-IDF 행렬로 변환\n",
        "\n",
        "predicted = lr.predict(tfidfv_test) #테스트 데이터에 대한 예측\n",
        "print(predicted)"
      ],
      "metadata": {
        "colab": {
          "base_uri": "https://localhost:8080/"
        },
        "id": "sRcJFhtHFa_0",
        "outputId": "95461f38-8077-4fad-e065-d94b84b4042d"
      },
      "execution_count": 29,
      "outputs": [
        {
          "output_type": "stream",
          "name": "stdout",
          "text": [
            "[8]\n"
          ]
        }
      ]
    },
    {
      "cell_type": "markdown",
      "source": [
        "불용어 제거 (sklearn)"
      ],
      "metadata": {
        "id": "K_LRtM1gGwrB"
      }
    },
    {
      "cell_type": "code",
      "source": [
        "from sklearn.feature_extraction.text import CountVectorizer\n",
        "from sklearn.feature_extraction.text import TfidfTransformer\n",
        "\n",
        "# dtm, tfidf 벡터 생성을 위한 객체 생성\n",
        "dtmvector = CountVectorizer(stop_words=\"english\") # 영어 스탑워드를 제거해달라는 뜻!\n",
        "tfidf_transformer = TfidfTransformer()\n",
        "\n",
        "# x_train에 대해서 dtm, tfidf 벡터 생성\n",
        "x_train_dtm = dtmvector.fit_transform(x_train)\n",
        "tfidfv = tfidf_transformer.fit_transform(x_train_dtm)\n",
        "\n",
        "# 나이브 베이즈 분류기로 학습 진행\n",
        "mod = MultinomialNB()\n",
        "mod.fit(tfidfv, y_train)\n",
        "\n",
        "# x_test에 대해서 dtm, tfidf 벡터 생성\n",
        "x_test_dtm = dtmvector.transform(x_test) #테스트 데이터를 DTM으로 변환\n",
        "tfidfv_test = tfidf_transformer.transform(x_test_dtm) #DTM을 TF-IDF 행렬로 변환\n",
        "\n",
        "predicted = mod.predict(tfidfv_test) #테스트 데이터에 대한 예측\n",
        "print(\"정확도:\", accuracy_score(y_test, predicted)) #예측값과 실제값 비교"
      ],
      "metadata": {
        "colab": {
          "base_uri": "https://localhost:8080/"
        },
        "id": "5vhKcAPrGknC",
        "outputId": "dc63c7de-c0a6-4298-a6e2-c700d9f62b86"
      },
      "execution_count": 30,
      "outputs": [
        {
          "output_type": "stream",
          "name": "stdout",
          "text": [
            "정확도: 0.44474169741697417\n"
          ]
        }
      ]
    }
  ]
}